{
 "cells": [
  {
   "cell_type": "code",
   "execution_count": 3,
   "id": "b68c1805",
   "metadata": {},
   "outputs": [
    {
     "name": "stdout",
     "output_type": "stream",
     "text": [
      "['hello', 'hy', 12, 11, 12.2, True]\n"
     ]
    }
   ],
   "source": [
    "#creating a list\n",
    "a=[\"hello\",\"hy\",12,11,12.2,True]\n",
    "print(a)"
   ]
  },
  {
   "cell_type": "code",
   "execution_count": 4,
   "id": "02abd649",
   "metadata": {},
   "outputs": [
    {
     "name": "stdout",
     "output_type": "stream",
     "text": [
      "['mango', 'grapes', 'cherry', 'apple', 'mango']\n"
     ]
    }
   ],
   "source": [
    "#allow duplicate\n",
    "a=[\"mango\",\"grapes\",\"cherry\",\"apple\",\"mango\"]\n",
    "print(a)"
   ]
  },
  {
   "cell_type": "code",
   "execution_count": 5,
   "id": "3028795d",
   "metadata": {},
   "outputs": [
    {
     "name": "stdout",
     "output_type": "stream",
     "text": [
      "3\n"
     ]
    }
   ],
   "source": [
    "#list length\n",
    "a=[\"xyz\",\"playes\",\"cricket\"]\n",
    "print(len(a))"
   ]
  },
  {
   "cell_type": "code",
   "execution_count": 6,
   "id": "67411bb8",
   "metadata": {},
   "outputs": [
    {
     "name": "stdout",
     "output_type": "stream",
     "text": [
      "['xyz', 34, True, 40, 'hy']\n"
     ]
    }
   ],
   "source": [
    "#list contain different datatype\n",
    "a=[\"xyz\",34,True,40,\"hy\"]\n",
    "print(a)"
   ]
  },
  {
   "cell_type": "code",
   "execution_count": 7,
   "id": "2580daea",
   "metadata": {},
   "outputs": [
    {
     "name": "stdout",
     "output_type": "stream",
     "text": [
      "<class 'list'>\n"
     ]
    }
   ],
   "source": [
    "#datatype of list\n",
    "a=[\"sona\",\"hello\",\"hy\",29,30,\"ok\"]\n",
    "print(type(a))"
   ]
  },
  {
   "cell_type": "code",
   "execution_count": 8,
   "id": "051d58f1",
   "metadata": {},
   "outputs": [
    {
     "name": "stdout",
     "output_type": "stream",
     "text": [
      "['mango', 'fruit', 11, 12]\n"
     ]
    }
   ],
   "source": [
    "#list constructor\n",
    "a=list((\"mango\",\"fruit\",11,12))\n",
    "print(a)"
   ]
  },
  {
   "cell_type": "code",
   "execution_count": 9,
   "id": "72e95e9a",
   "metadata": {},
   "outputs": [
    {
     "name": "stdout",
     "output_type": "stream",
     "text": [
      "hello\n"
     ]
    }
   ],
   "source": [
    "#Access list items\n",
    "a=[\"hello\",\"hy\",\"xyz\"]\n",
    "print(a[0])"
   ]
  },
  {
   "cell_type": "code",
   "execution_count": 10,
   "id": "bcf5f0e3",
   "metadata": {},
   "outputs": [
    {
     "name": "stdout",
     "output_type": "stream",
     "text": [
      "78\n"
     ]
    }
   ],
   "source": [
    "a=[\"hy\",\"hello\",78,76,True]\n",
    "print(a[2])"
   ]
  },
  {
   "cell_type": "code",
   "execution_count": 11,
   "id": "8ee522e7",
   "metadata": {},
   "outputs": [
    {
     "name": "stdout",
     "output_type": "stream",
     "text": [
      "ghi\n"
     ]
    }
   ],
   "source": [
    "#negative indexing(-1 refer last item,-2 refer second last item)\n",
    "a=[\"hy\",343,89,23,\"ghi\"]\n",
    "print(a[-1])"
   ]
  },
  {
   "cell_type": "code",
   "execution_count": 12,
   "id": "9c59d910",
   "metadata": {},
   "outputs": [
    {
     "name": "stdout",
     "output_type": "stream",
     "text": [
      "34\n"
     ]
    }
   ],
   "source": [
    "a=[\"fruit\",\"name\",34,54,655,True]\n",
    "print(a[-4])"
   ]
  },
  {
   "cell_type": "code",
   "execution_count": 13,
   "id": "2347a241",
   "metadata": {},
   "outputs": [
    {
     "name": "stdout",
     "output_type": "stream",
     "text": [
      "['xyz', 'ghf', 32]\n"
     ]
    }
   ],
   "source": [
    "#range of indexes(start and end)\n",
    "a=[\"hy\",\"xyz\",\"ghf\",32,22,]\n",
    "print(a[1:4])\n"
   ]
  },
  {
   "cell_type": "code",
   "execution_count": 14,
   "id": "3cd40646",
   "metadata": {},
   "outputs": [
    {
     "name": "stdout",
     "output_type": "stream",
     "text": [
      "['hy', 'hello', 23, 76, 'xyz']\n"
     ]
    }
   ],
   "source": [
    "#strat from beggining but not included ending\n",
    "a=[\"hy\",\"hello\",23,76,\"xyz\",\"hjd\"]\n",
    "print(a[:5])"
   ]
  },
  {
   "cell_type": "code",
   "execution_count": 15,
   "id": "ae56d9c2",
   "metadata": {},
   "outputs": [
    {
     "name": "stdout",
     "output_type": "stream",
     "text": [
      "['very', 'delicious']\n"
     ]
    }
   ],
   "source": [
    "#start any string but end last\n",
    "a=[\"mango\",\"is\",\"very\",\"delicious\"]\n",
    "print(a[2:])"
   ]
  },
  {
   "cell_type": "code",
   "execution_count": 16,
   "id": "6d41d647",
   "metadata": {},
   "outputs": [
    {
     "name": "stdout",
     "output_type": "stream",
     "text": [
      "['b', 'c', 'x', 'y', 'z']\n"
     ]
    }
   ],
   "source": [
    "a=[\"a\",\"b\",\"c\",\"x\",\"y\",\"z\"]\n",
    "print(a[1:])"
   ]
  },
  {
   "cell_type": "code",
   "execution_count": 17,
   "id": "ad0f93fe",
   "metadata": {},
   "outputs": [
    {
     "name": "stdout",
     "output_type": "stream",
     "text": [
      "[]\n"
     ]
    }
   ],
   "source": [
    "#range of negative indexes\n",
    "a=[1,2,\"a\",\"b\",3,4,\"c\",\"d\"]\n",
    "print(a[-1:-4])"
   ]
  },
  {
   "cell_type": "code",
   "execution_count": 18,
   "id": "b84c3e37",
   "metadata": {},
   "outputs": [
    {
     "name": "stdout",
     "output_type": "stream",
     "text": [
      "[3, 4, 'c']\n"
     ]
    }
   ],
   "source": [
    "a=[1,2,\"a\",\"b\",3,4,\"c\",\"d\"]\n",
    "print(a[-4:-1])"
   ]
  },
  {
   "cell_type": "code",
   "execution_count": 20,
   "id": "a922d01e",
   "metadata": {},
   "outputs": [
    {
     "name": "stdout",
     "output_type": "stream",
     "text": [
      "yes,'all is present in this list'\n"
     ]
    }
   ],
   "source": [
    "#check if item exist\n",
    "a=[\"mango\",\"class\",\"enquiry\",\"all\",\"are\",\"very\",\"well\"]\n",
    "if \"all\" in a:\n",
    "    print(\"yes,'all is present in this list'\")"
   ]
  },
  {
   "cell_type": "code",
   "execution_count": 2,
   "id": "30573775",
   "metadata": {},
   "outputs": [
    {
     "name": "stdout",
     "output_type": "stream",
     "text": [
      "['apple', 'orange', 'grapes']\n"
     ]
    }
   ],
   "source": [
    "#change listitem\n",
    "a=[\"apple\",\"mango\",\"grapes\"]\n",
    "a[1]=\"orange\"\n",
    "print(a)\n"
   ]
  },
  {
   "cell_type": "code",
   "execution_count": 3,
   "id": "48a47f46",
   "metadata": {},
   "outputs": [
    {
     "name": "stdout",
     "output_type": "stream",
     "text": [
      "['a', 'x', 'y', 'z', 'd', 'e']\n"
     ]
    }
   ],
   "source": [
    "#change a range of items\n",
    "a=[\"a\",\"b\",\"c\",\"d\",\"e\"]\n",
    "a[1:3]=[\"x\",\"y\",\"z\"]\n",
    "print(a)"
   ]
  },
  {
   "cell_type": "code",
   "execution_count": 4,
   "id": "3970db33",
   "metadata": {},
   "outputs": [
    {
     "name": "stdout",
     "output_type": "stream",
     "text": [
      "['a', 'x', 'c', 'd', 1, 2, 3, 4]\n"
     ]
    }
   ],
   "source": [
    "#change 2 item by replacing one value\n",
    "a=[\"a\",\"b\",\"c\",\"d\",1,2,3,4]\n",
    "a[1:2]=[\"x\"]\n",
    "print(a)"
   ]
  },
  {
   "cell_type": "code",
   "execution_count": 5,
   "id": "a4a51821",
   "metadata": {},
   "outputs": [
    {
     "name": "stdout",
     "output_type": "stream",
     "text": [
      "['a', '2', 'b', 'c', 'd', 'e']\n"
     ]
    }
   ],
   "source": [
    "#insert item\n",
    "a=[\"a\",\"b\",\"c\",\"d\",\"e\"]\n",
    "a.insert(1,\"2\")\n",
    "print(a)"
   ]
  },
  {
   "cell_type": "code",
   "execution_count": 6,
   "id": "f667da9e",
   "metadata": {},
   "outputs": [
    {
     "name": "stdout",
     "output_type": "stream",
     "text": [
      "['xyz', 'pqr', 12, 11, 34, 44, 89]\n"
     ]
    }
   ],
   "source": [
    "# append items\n",
    "a=[\"xyz\",\"pqr\",12,11,34,44]\n",
    "a.append(89)\n",
    "print(a)"
   ]
  },
  {
   "cell_type": "code",
   "execution_count": 7,
   "id": "0c9ddd0e",
   "metadata": {},
   "outputs": [
    {
     "name": "stdout",
     "output_type": "stream",
     "text": [
      "['mango', 'orange', 'grapes', 'watermelon']\n"
     ]
    }
   ],
   "source": [
    "a=[\"mango\",\"orange\",\"grapes\"]\n",
    "a.append(\"watermelon\")\n",
    "print(a)"
   ]
  },
  {
   "cell_type": "code",
   "execution_count": 8,
   "id": "f357a702",
   "metadata": {},
   "outputs": [
    {
     "name": "stdout",
     "output_type": "stream",
     "text": [
      "[1, 2, 3, 4, 'a', 'b', 'cd', 'e']\n"
     ]
    }
   ],
   "source": [
    "#insert method\n",
    "a=[1,2,3,4,\"a\",\"b\",\"e\"]\n",
    "a.insert(6,\"cd\")\n",
    "print(a)\n",
    "\n"
   ]
  },
  {
   "cell_type": "code",
   "execution_count": 9,
   "id": "acdfa2e2",
   "metadata": {},
   "outputs": [
    {
     "name": "stdout",
     "output_type": "stream",
     "text": [
      "[1, 2, 3, 4, 'ss', 5, 6]\n"
     ]
    }
   ],
   "source": [
    "a=[1,2,3,4,5,6]\n",
    "a.insert(4,\"ss\")\n",
    "print(a)"
   ]
  },
  {
   "cell_type": "code",
   "execution_count": 11,
   "id": "8a5c38e2",
   "metadata": {},
   "outputs": [
    {
     "name": "stdout",
     "output_type": "stream",
     "text": [
      "[1, 2, 3, 4, 'a', 'b', 'c', 'd']\n"
     ]
    }
   ],
   "source": [
    "#extend method\n",
    "a=[1,2,3,4]\n",
    "b=[\"a\",\"b\",\"c\",\"d\"]\n",
    "a.extend(b)\n",
    "print(a)"
   ]
  },
  {
   "cell_type": "code",
   "execution_count": 14,
   "id": "99dd80a6",
   "metadata": {},
   "outputs": [
    {
     "name": "stdout",
     "output_type": "stream",
     "text": [
      "[1, 2, 3, 4, 'a', 'b', 'c', 'd']\n"
     ]
    }
   ],
   "source": [
    "a=[1,2,3,4]\n",
    "b=[3,4,5,6]\n",
    "c=[\"a\",\"b\",\"c\",\"d\"]\n",
    "a.extend(c)\n",
    "print(a)"
   ]
  },
  {
   "cell_type": "code",
   "execution_count": 15,
   "id": "419e7dc4",
   "metadata": {},
   "outputs": [
    {
     "name": "stdout",
     "output_type": "stream",
     "text": [
      "[1, 2, 3, 4, 'a', 'b', 'c', 'd']\n"
     ]
    }
   ],
   "source": [
    "#Add any iterable\n",
    "a=[1,2,3,4,\"a\",\"b\"]\n",
    "b=(\"c\",\"d\")\n",
    "a.extend(b)\n",
    "print(a)"
   ]
  },
  {
   "cell_type": "code",
   "execution_count": 16,
   "id": "95dfae9c",
   "metadata": {},
   "outputs": [
    {
     "name": "stdout",
     "output_type": "stream",
     "text": [
      "['orange', 'banana', 'grapes']\n"
     ]
    }
   ],
   "source": [
    "#remove specific item\n",
    "a=[\"orange\",\"mango\",\"banana\",\"grapes\"]\n",
    "a.remove(\"mango\")\n",
    "print(a)"
   ]
  },
  {
   "cell_type": "code",
   "execution_count": 18,
   "id": "516f92ac",
   "metadata": {},
   "outputs": [
    {
     "name": "stdout",
     "output_type": "stream",
     "text": [
      "['ab', 'bc', 'cd', 'gh', 'ef']\n"
     ]
    }
   ],
   "source": [
    "#remove the first occurance of item\n",
    "a=[\"ab\",\"bc\",\"cd\",\"ef\",\"gh\",\"ef\"]\n",
    "a.remove(\"ef\")\n",
    "print(a)"
   ]
  },
  {
   "cell_type": "code",
   "execution_count": 19,
   "id": "3b9dfe57",
   "metadata": {},
   "outputs": [
    {
     "name": "stdout",
     "output_type": "stream",
     "text": [
      "[1, 2, 3, 4, 1.2, 'a', 'b']\n"
     ]
    }
   ],
   "source": [
    "#remove specified index using pop method\n",
    "a=[1,2,3,4,1.2,2.3,\"a\",\"b\"]\n",
    "a.pop(5)\n",
    "print(a)"
   ]
  },
  {
   "cell_type": "code",
   "execution_count": 20,
   "id": "43c65cfa",
   "metadata": {},
   "outputs": [
    {
     "name": "stdout",
     "output_type": "stream",
     "text": [
      "[1, 2, 3, 4, 'a', 'b', 'c', 'd']\n"
     ]
    }
   ],
   "source": [
    "#do not specify index pop method remove last element\n",
    "a=[1,2,3,4,\"a\",\"b\",\"c\",\"d\",\"e\"]\n",
    "a.pop()\n",
    "print(a)"
   ]
  },
  {
   "cell_type": "code",
   "execution_count": 22,
   "id": "7b4754c9",
   "metadata": {},
   "outputs": [
    {
     "name": "stdout",
     "output_type": "stream",
     "text": [
      "[1, 2, 3, 4, 5, 6, 7, 8]\n"
     ]
    }
   ],
   "source": [
    "#del keyword removes specified index\n",
    "a=[1,2,3,4,5,6,7,8,9]\n",
    "del a[8]\n",
    "print(a)"
   ]
  },
  {
   "cell_type": "code",
   "execution_count": 23,
   "id": "bbf2e7cf",
   "metadata": {},
   "outputs": [
    {
     "name": "stdout",
     "output_type": "stream",
     "text": [
      "['a', 'b', 'c', 'd', 1, 2, 3, 4]\n"
     ]
    }
   ],
   "source": [
    "a=[\"a\",\"b\",\"c\",\"d\",\"e\",1,2,3,4]\n",
    "del a[4]\n",
    "print(a)\n"
   ]
  },
  {
   "cell_type": "code",
   "execution_count": 27,
   "id": "01db3e9d",
   "metadata": {},
   "outputs": [],
   "source": [
    "#del keyword also delet complet list\n",
    "a=[1,2,3,4,5]\n",
    "del a"
   ]
  },
  {
   "cell_type": "code",
   "execution_count": 28,
   "id": "45488c95",
   "metadata": {},
   "outputs": [
    {
     "name": "stdout",
     "output_type": "stream",
     "text": [
      "[]\n"
     ]
    }
   ],
   "source": [
    "#clear method\n",
    "a=[\"a\",\"b\",\"c\",\"d\"]\n",
    "a.clear()\n",
    "print(a)"
   ]
  },
  {
   "cell_type": "code",
   "execution_count": 33,
   "id": "e05e3d18",
   "metadata": {},
   "outputs": [
    {
     "name": "stdout",
     "output_type": "stream",
     "text": [
      "abc\n",
      "def\n",
      "xyz\n",
      "pqr\n"
     ]
    }
   ],
   "source": [
    "#use loop in list\n",
    "a=[\"abc\",\"def\",\"xyz\",\"pqr\"]\n",
    "for ab in a:\n",
    "    print(ab)"
   ]
  },
  {
   "cell_type": "code",
   "execution_count": 38,
   "id": "f64587ac",
   "metadata": {},
   "outputs": [
    {
     "name": "stdout",
     "output_type": "stream",
     "text": [
      "a\n",
      "b\n",
      "c\n",
      "d\n"
     ]
    }
   ],
   "source": [
    "#loop through index number\n",
    "a=[\"a\",\"b\",\"c\",\"d\"]\n",
    "for i in range(len(a)):\n",
    "    print(a[i])"
   ]
  },
  {
   "cell_type": "code",
   "execution_count": 44,
   "id": "5366e2c1",
   "metadata": {},
   "outputs": [
    {
     "name": "stdout",
     "output_type": "stream",
     "text": [
      "['a', 'b', 'c', 'd', 'e']\n"
     ]
    }
   ],
   "source": [
    "#sort method\n",
    "a=[\"a\",\"e\",\"b\",\"c\",\"d\"]\n",
    "a.sort()\n",
    "print(a)"
   ]
  },
  {
   "cell_type": "code",
   "execution_count": 45,
   "id": "7ff2c5db",
   "metadata": {},
   "outputs": [
    {
     "name": "stdout",
     "output_type": "stream",
     "text": [
      "[11, 12, 22, 23, 56, 100]\n"
     ]
    }
   ],
   "source": [
    "a=[23,11,56,22,12,100]\n",
    "a.sort()\n",
    "print(a)"
   ]
  },
  {
   "cell_type": "code",
   "execution_count": 4,
   "id": "0406fbd9",
   "metadata": {},
   "outputs": [
    {
     "name": "stdout",
     "output_type": "stream",
     "text": [
      "enter fruit 1storange\n",
      "enter fruit 2ndmango\n",
      "enter fruit 3rdgrapes\n",
      "enter fruit 4thcherry\n",
      "['orange', 'mango']\n"
     ]
    }
   ],
   "source": [
    "a=input(\"enter fruit 1st\")\n",
    "b=input(\"enter fruit 2nd\")\n",
    "c=input(\"enter fruit 3rd\")\n",
    "d=input(\"enter fruit 4th\")\n",
    "all=[a,b,c,d]\n",
    "print(all[0:2])\n",
    "\n"
   ]
  },
  {
   "cell_type": "code",
   "execution_count": 47,
   "id": "f1cc710b",
   "metadata": {},
   "outputs": [
    {
     "name": "stdout",
     "output_type": "stream",
     "text": [
      "[90, 78, 56, 23, 12, 11]\n"
     ]
    }
   ],
   "source": [
    "#sort in descending\n",
    "a=[11,23,12,56,78,90]\n",
    "a.sort(reverse=True)\n",
    "print(a)"
   ]
  },
  {
   "cell_type": "code",
   "execution_count": 6,
   "id": "a01cb323",
   "metadata": {},
   "outputs": [
    {
     "name": "stdout",
     "output_type": "stream",
     "text": [
      "['mago', 'orange', 'banana', 'watermelon']\n"
     ]
    }
   ],
   "source": [
    "a=[\"mago\",\"orange\",\"banana\"]\n",
    "new=[\"watermelon\"]\n",
    "c=a+new\n",
    "print(c)"
   ]
  },
  {
   "cell_type": "code",
   "execution_count": 7,
   "id": "73812044",
   "metadata": {},
   "outputs": [
    {
     "name": "stdout",
     "output_type": "stream",
     "text": [
      "['a', 'b', 'c', 'd', 'a', 'b', 'c', 'd', 'a', 'b', 'c', 'd']\n"
     ]
    }
   ],
   "source": [
    "a=[\"a\",\"b\",\"c\",\"d\"]\n",
    "b=a*3\n",
    "print(b)"
   ]
  },
  {
   "cell_type": "code",
   "execution_count": 8,
   "id": "edce14b7",
   "metadata": {},
   "outputs": [
    {
     "name": "stdout",
     "output_type": "stream",
     "text": [
      "['orange', 'mango', 'banana', 'watermelon']\n"
     ]
    }
   ],
   "source": [
    "a=[\"orange\",\"mango\",\"banana\",\"cherry\"]\n",
    "a[3]=\"watermelon\"\n",
    "print(a)"
   ]
  },
  {
   "cell_type": "code",
   "execution_count": 10,
   "id": "7e0ce06e",
   "metadata": {},
   "outputs": [
    {
     "name": "stdout",
     "output_type": "stream",
     "text": [
      "['orange', 'mango', 'cherry']\n"
     ]
    }
   ],
   "source": [
    "a=[\"orange\",\"mango\",\"banana\",\"cherry\"]\n",
    "a.pop(2)\n",
    "print(a)"
   ]
  },
  {
   "cell_type": "code",
   "execution_count": 11,
   "id": "ddeb5538",
   "metadata": {},
   "outputs": [
    {
     "name": "stdout",
     "output_type": "stream",
     "text": [
      "['orange', 'mango', 'banana']\n"
     ]
    }
   ],
   "source": [
    "a=[\"orange\",\"mango\",\"banana\",\"cherry\"]\n",
    "a.remove(\"cherry\")\n",
    "print(a)"
   ]
  },
  {
   "cell_type": "code",
   "execution_count": 16,
   "id": "c7e1aaba",
   "metadata": {},
   "outputs": [
    {
     "name": "stdout",
     "output_type": "stream",
     "text": [
      "[]\n",
      "[]\n",
      "[]\n"
     ]
    }
   ],
   "source": [
    "a=[\"orange\",\"mango\",\"banana\",\"cherry\",\"watermelon\"]\n",
    "a.clear()\n",
    "print(a)\n",
    "a.sort()\n",
    "print(a)\n",
    "a.reverse()\n",
    "print(a)"
   ]
  },
  {
   "cell_type": "code",
   "execution_count": 48,
   "id": "da4c9068",
   "metadata": {},
   "outputs": [
    {
     "name": "stdout",
     "output_type": "stream",
     "text": [
      "['watermelon', 'orange', 'mango', 'grapes']\n"
     ]
    }
   ],
   "source": [
    "a=[\"orange\",\"mango\",\"grapes\",\"watermelon\"]\n",
    "a.sort(reverse=True)\n",
    "print(a)"
   ]
  },
  {
   "cell_type": "code",
   "execution_count": 17,
   "id": "f832dfd0",
   "metadata": {},
   "outputs": [
    {
     "name": "stdout",
     "output_type": "stream",
     "text": [
      "[1, 2, 3, 4, [5, 6, 7, 8]]\n"
     ]
    }
   ],
   "source": [
    "a=[1,2,3,4,[5,6,7,8]]\n",
    "print(a)\n"
   ]
  },
  {
   "cell_type": "code",
   "execution_count": null,
   "id": "10524d23",
   "metadata": {},
   "outputs": [],
   "source": [
    "a=[1,2,3,4,5,6]\n",
    "\n"
   ]
  },
  {
   "cell_type": "code",
   "execution_count": 49,
   "id": "10332056",
   "metadata": {},
   "outputs": [
    {
     "name": "stdout",
     "output_type": "stream",
     "text": [
      "['grapes', 'mango', 'orange', 'watermelon']\n"
     ]
    }
   ],
   "source": [
    "a=[\"orange\",\"mango\",\"grapes\",\"watermelon\"]\n",
    "a.sort()\n",
    "print(a)"
   ]
  },
  {
   "cell_type": "code",
   "execution_count": 50,
   "id": "10b41e18",
   "metadata": {},
   "outputs": [
    {
     "name": "stdout",
     "output_type": "stream",
     "text": [
      "['Apple', 'Grapes', 'mango', 'watermelon']\n"
     ]
    }
   ],
   "source": [
    "a=[\"Apple\",\"mango\",\"Grapes\",\"watermelon\"]\n",
    "a.sort()\n",
    "print(a)"
   ]
  },
  {
   "cell_type": "code",
   "execution_count": 52,
   "id": "bb473e56",
   "metadata": {},
   "outputs": [
    {
     "name": "stdout",
     "output_type": "stream",
     "text": [
      "['Apple', 'Grapes', 'mango', 'watermelon']\n"
     ]
    }
   ],
   "source": [
    "a=[\"Apple\",\"mango\",\"Grapes\",\"watermelon\"]\n",
    "a.sort(key = str.lower)\n",
    "print(a)"
   ]
  },
  {
   "cell_type": "code",
   "execution_count": 53,
   "id": "8f8227ba",
   "metadata": {},
   "outputs": [
    {
     "name": "stdout",
     "output_type": "stream",
     "text": [
      "['cherry', 'pinepale', 'mango', 'apple']\n"
     ]
    }
   ],
   "source": [
    "a=[\"apple\",\"mango\",\"pinepale\",\"cherry\"]\n",
    "a.reverse()\n",
    "print(a)"
   ]
  },
  {
   "cell_type": "code",
   "execution_count": 54,
   "id": "c429d6b0",
   "metadata": {},
   "outputs": [
    {
     "name": "stdout",
     "output_type": "stream",
     "text": [
      "['a', 'b', 'c', 'd', 1, 2, 3, 4]\n"
     ]
    }
   ],
   "source": [
    "#copy method\n",
    "a=[\"a\",\"b\",\"c\",\"d\",1,2,3,4]\n",
    "b=a.copy()\n",
    "print(b)"
   ]
  },
  {
   "cell_type": "code",
   "execution_count": 56,
   "id": "29f57128",
   "metadata": {},
   "outputs": [
    {
     "name": "stdout",
     "output_type": "stream",
     "text": [
      "['a', 'b', 'c', 'd', 'e', 'f', 'e']\n"
     ]
    }
   ],
   "source": [
    "#copy with a list method\n",
    "a=[\"a\",\"b\",\"c\",\"d\",\"e\",\"f\",\"e\"]\n",
    "b=list(a)\n",
    "print(b)"
   ]
  },
  {
   "cell_type": "code",
   "execution_count": 58,
   "id": "8a1f1423",
   "metadata": {},
   "outputs": [
    {
     "name": "stdout",
     "output_type": "stream",
     "text": [
      "[1, 2, 3, 4, 5, 6, 7, 8]\n"
     ]
    }
   ],
   "source": [
    "#join two list\n",
    "a=[1,2,3,4]\n",
    "b=[5,6,7,8]\n",
    "c=a+b\n",
    "print(c)"
   ]
  },
  {
   "cell_type": "code",
   "execution_count": 59,
   "id": "33dc1afa",
   "metadata": {},
   "outputs": [
    {
     "name": "stdout",
     "output_type": "stream",
     "text": [
      "[1, 2, 3, 4, 8, 9]\n"
     ]
    }
   ],
   "source": [
    "a=[1,2,3,4]\n",
    "b=[8,9]\n",
    "for s in b:\n",
    "    a.append(s)\n",
    "print(a)\n",
    "    "
   ]
  },
  {
   "cell_type": "code",
   "execution_count": 60,
   "id": "67009bd5",
   "metadata": {},
   "outputs": [
    {
     "name": "stdout",
     "output_type": "stream",
     "text": [
      "[1, 2, 3, 4, 5, 6]\n"
     ]
    }
   ],
   "source": [
    "#extend method\n",
    "a=[1,2,3,4]\n",
    "b=[5,6]\n",
    "a.extend(b)\n",
    "print(a)"
   ]
  },
  {
   "cell_type": "code",
   "execution_count": 63,
   "id": "2f3d2070",
   "metadata": {},
   "outputs": [
    {
     "name": "stdout",
     "output_type": "stream",
     "text": [
      "1\n",
      "5\n"
     ]
    },
    {
     "ename": "IndexError",
     "evalue": "list index out of range",
     "output_type": "error",
     "traceback": [
      "\u001b[1;31m---------------------------------------------------------------------------\u001b[0m",
      "\u001b[1;31mIndexError\u001b[0m                                Traceback (most recent call last)",
      "Cell \u001b[1;32mIn[63], line 4\u001b[0m\n\u001b[0;32m      2\u001b[0m \u001b[38;5;28mprint\u001b[39m(a[\u001b[38;5;241m0\u001b[39m])\n\u001b[0;32m      3\u001b[0m \u001b[38;5;28mprint\u001b[39m(a[\u001b[38;5;241m4\u001b[39m])\n\u001b[1;32m----> 4\u001b[0m \u001b[38;5;28mprint\u001b[39m(\u001b[43ma\u001b[49m\u001b[43m[\u001b[49m\u001b[38;5;241;43m6\u001b[39;49m\u001b[43m]\u001b[49m)\n",
      "\u001b[1;31mIndexError\u001b[0m: list index out of range"
     ]
    }
   ],
   "source": [
    "a=[1,2,3,5,5,6]\n",
    "print(a[0])\n",
    "print(a[4])\n",
    "print(a[6])"
   ]
  },
  {
   "cell_type": "code",
   "execution_count": 65,
   "id": "cec4c241",
   "metadata": {},
   "outputs": [
    {
     "name": "stdout",
     "output_type": "stream",
     "text": [
      "[1, 2, 3, 4, 8, 6]\n"
     ]
    }
   ],
   "source": [
    "#change list item\n",
    "a=[1,2,3,4,5,6]\n",
    "a[4]=8\n",
    "print(a)"
   ]
  },
  {
   "cell_type": "code",
   "execution_count": 66,
   "id": "67258d8e",
   "metadata": {},
   "outputs": [
    {
     "name": "stdout",
     "output_type": "stream",
     "text": [
      "['c', 'd']\n",
      "['a', 'b', 'c']\n",
      "['b', 'c', 'd', 'e']\n"
     ]
    }
   ],
   "source": [
    "#list slicing\n",
    "a=[\"a\",\"b\",\"c\",\"d\",\"e\"]\n",
    "print(a[2:4])\n",
    "print(a[-5:-2])\n",
    "print(a[-4:])"
   ]
  },
  {
   "cell_type": "code",
   "execution_count": 67,
   "id": "32b1ce63",
   "metadata": {},
   "outputs": [
    {
     "name": "stdout",
     "output_type": "stream",
     "text": [
      "enter fru1:apple\n",
      "enter fru2:mango\n",
      "enter fru3:kiwi\n",
      "enter fru4:cherry\n",
      "['apple', 'mango', 'kiwi', 'cherry']\n"
     ]
    }
   ],
   "source": [
    "a=input(\"enter fru1:\")\n",
    "b=input(\"enter fru2:\")\n",
    "c=input(\"enter fru3:\")\n",
    "d=input(\"enter fru4:\")\n",
    "list=[a,b,c,d]\n",
    "print(list)"
   ]
  },
  {
   "cell_type": "code",
   "execution_count": 70,
   "id": "ee650d01",
   "metadata": {},
   "outputs": [
    {
     "name": "stdout",
     "output_type": "stream",
     "text": [
      "enter student1 number78\n",
      "enter student2 number90\n",
      "enter student3 number89\n",
      "enter student4 number78\n",
      "enter student5 number67\n",
      "[67, 78, 78, 89, 90]\n"
     ]
    }
   ],
   "source": [
    "#marks sorted \n",
    "a=int(input(\"enter student1 number\"))\n",
    "b=int(input(\"enter student2 number\"))\n",
    "c=int(input(\"enter student3 number\"))\n",
    "d=int(input(\"enter student4 number\"))\n",
    "e=int(input(\"enter student5 number\"))\n",
    "all=[a,b,c,d,e]\n",
    "all.sort()\n",
    "print(all)"
   ]
  },
  {
   "cell_type": "code",
   "execution_count": 71,
   "id": "5ce39eda",
   "metadata": {},
   "outputs": [
    {
     "name": "stdout",
     "output_type": "stream",
     "text": [
      "269\n",
      "269\n"
     ]
    }
   ],
   "source": [
    "#sum of list\n",
    "a=[45,56,78,90]\n",
    "print(a[0]+a[1]+a[2]+a[3])\n",
    "print(sum(a))"
   ]
  },
  {
   "cell_type": "code",
   "execution_count": 72,
   "id": "9c5a286e",
   "metadata": {},
   "outputs": [
    {
     "name": "stdout",
     "output_type": "stream",
     "text": [
      "0\n"
     ]
    }
   ],
   "source": [
    "a=[1,2,3,4,5,6,6,7,6,7,5]\n",
    "print(a.count(0))"
   ]
  },
  {
   "cell_type": "code",
   "execution_count": 73,
   "id": "5d73995a",
   "metadata": {},
   "outputs": [
    {
     "name": "stdout",
     "output_type": "stream",
     "text": [
      "3\n"
     ]
    }
   ],
   "source": [
    "a=[1,2,3,4,5,6,6,7,6,7,5]\n",
    "print(a.count(6))"
   ]
  },
  {
   "cell_type": "code",
   "execution_count": 74,
   "id": "3969ef62",
   "metadata": {},
   "outputs": [
    {
     "name": "stdout",
     "output_type": "stream",
     "text": [
      "enter size of list5\n",
      "enter 5 elements\n",
      "1\n",
      "2\n",
      "3\n",
      "4\n",
      "5\n",
      "[1, 2, 3, 4, 5]\n"
     ]
    }
   ],
   "source": [
    "a=[]\n",
    "b=int(input('enter size of list'))\n",
    "print('enter',b,'elements')\n",
    "for i in range(b):\n",
    "    c=int(input())\n",
    "    a.append(c)\n",
    "print(a)"
   ]
  },
  {
   "cell_type": "code",
   "execution_count": 75,
   "id": "6827cebf",
   "metadata": {},
   "outputs": [
    {
     "name": "stdout",
     "output_type": "stream",
     "text": [
      "[11, 12, 'orange', 'mango']\n"
     ]
    }
   ],
   "source": [
    "a=[11,12,\"apple\",\"mango\"]\n",
    "b=a[2]=\"orange\"\n",
    "print"
   ]
  },
  {
   "cell_type": "code",
   "execution_count": 78,
   "id": "fca620db",
   "metadata": {},
   "outputs": [
    {
     "name": "stdout",
     "output_type": "stream",
     "text": [
      "[11, 12, 2, 3, 'mango']\n"
     ]
    }
   ],
   "source": [
    "a=[11,12,\"apple\",\"mango\"]\n",
    "b=a[2:3]=2,3\n",
    "print(a)"
   ]
  },
  {
   "cell_type": "code",
   "execution_count": 79,
   "id": "ed570205",
   "metadata": {},
   "outputs": [
    {
     "name": "stdout",
     "output_type": "stream",
     "text": [
      "[10, 20, 40, 50]\n"
     ]
    }
   ],
   "source": [
    "a=[10,20,30,40,50]\n",
    "a.remove(30)\n",
    "print(a)"
   ]
  },
  {
   "cell_type": "code",
   "execution_count": 80,
   "id": "a4b3103c",
   "metadata": {},
   "outputs": [
    {
     "name": "stdout",
     "output_type": "stream",
     "text": [
      "[20, 40, 50]\n"
     ]
    }
   ],
   "source": [
    "a=[20,30,40,50]\n",
    "a.pop(1)\n",
    "print(a)"
   ]
  },
  {
   "cell_type": "code",
   "execution_count": 81,
   "id": "7026ade4",
   "metadata": {},
   "outputs": [
    {
     "name": "stdout",
     "output_type": "stream",
     "text": [
      "[20, 30, 40, 50, 60]\n"
     ]
    }
   ],
   "source": [
    "a=[20,30,40,50,50,60,50]\n",
    "b=[]\n",
    "for i in a:\n",
    "    if i not in b:\n",
    "        b.append(i)\n",
    "print(b)"
   ]
  },
  {
   "cell_type": "code",
   "execution_count": 82,
   "id": "8e44d616",
   "metadata": {},
   "outputs": [
    {
     "name": "stdout",
     "output_type": "stream",
     "text": [
      "4\n"
     ]
    }
   ],
   "source": [
    "a=[20,30,40,50,50,60,50,50,60]\n",
    "print(a.count(50))"
   ]
  },
  {
   "cell_type": "code",
   "execution_count": 1,
   "id": "9d5ef30c",
   "metadata": {},
   "outputs": [
    {
     "name": "stdout",
     "output_type": "stream",
     "text": [
      "1\n",
      "2\n",
      "3\n",
      "4\n",
      "[1, 2, 3, 4, 5, 6]\n",
      "[1, 2, 3, 4, 5, 6]\n",
      "[3, 4, 5]\n",
      "[2, 4, 6]\n"
     ]
    }
   ],
   "source": [
    "a=[1,2,3,4,5,6]\n",
    "print(a[0])\n",
    "print(a[1])\n",
    "print(a[2])\n",
    "print(a[3])\n",
    "#slicing the element of list\n",
    "print(a[0:6])\n",
    "print(a[:])\n",
    "print(a[2:5])\n",
    "print(a[1:6:2])"
   ]
  },
  {
   "cell_type": "code",
   "execution_count": 2,
   "id": "bd6b5b60",
   "metadata": {},
   "outputs": [
    {
     "name": "stdout",
     "output_type": "stream",
     "text": [
      "5\n",
      "4\n",
      "[1, 2, 3, 4]\n",
      "[3, 4]\n"
     ]
    }
   ],
   "source": [
    "a=[1,2,3,4,5]\n",
    "print(a[-1])\n",
    "print(a[-2])\n",
    "print(a[:-1])\n",
    "print(a[-3:-1])"
   ]
  },
  {
   "cell_type": "code",
   "execution_count": 5,
   "id": "7072f0c0",
   "metadata": {},
   "outputs": [
    {
     "name": "stdout",
     "output_type": "stream",
     "text": [
      "[1, 2, 3, 4, 5, 6]\n",
      "[1, 2, 3, 4, 10, 6]\n",
      "[1, 9, 8, 7, 10, 6]\n",
      "[1, 9, 8, 7, 10, 89]\n"
     ]
    }
   ],
   "source": [
    "a=[1,2,3,4,5,6]\n",
    "print(a)\n",
    "a[4]=10\n",
    "print(a)\n",
    "a[1:4]=[9,8,7]\n",
    "print(a)\n",
    "a[-1]=89\n",
    "print(a)"
   ]
  },
  {
   "cell_type": "code",
   "execution_count": 6,
   "id": "1c4750fc",
   "metadata": {},
   "outputs": [
    {
     "name": "stdout",
     "output_type": "stream",
     "text": [
      "[1, 2, 3, 4, 5, 1, 2, 3, 4, 5]\n"
     ]
    }
   ],
   "source": [
    "#repetation of list\n",
    "a=[1,2,3,4,5]\n",
    "b=a*2\n",
    "print(b)"
   ]
  },
  {
   "cell_type": "code",
   "execution_count": 7,
   "id": "3563b761",
   "metadata": {},
   "outputs": [
    {
     "name": "stdout",
     "output_type": "stream",
     "text": [
      "[1, 2, 3, 4, 3, 4, 5, 6]\n"
     ]
    }
   ],
   "source": [
    "#concatenation of list\n",
    "a=[1,2,3,4]\n",
    "b=[3,4,5,6]\n",
    "c=a+b\n",
    "print(c)"
   ]
  },
  {
   "cell_type": "code",
   "execution_count": 8,
   "id": "0ed14811",
   "metadata": {},
   "outputs": [
    {
     "name": "stdout",
     "output_type": "stream",
     "text": [
      "5\n"
     ]
    }
   ],
   "source": [
    "#length of list\n",
    "a=[1,2,3,4,5]\n",
    "print(len(a))"
   ]
  },
  {
   "cell_type": "code",
   "execution_count": 9,
   "id": "a7ce8439",
   "metadata": {},
   "outputs": [
    {
     "name": "stdout",
     "output_type": "stream",
     "text": [
      "2\n",
      "3\n",
      "4\n",
      "5\n",
      "6\n"
     ]
    }
   ],
   "source": [
    "#iteration of list\n",
    "a=[2,3,4,5,6]\n",
    "for i in a:\n",
    "    print(i)"
   ]
  },
  {
   "cell_type": "code",
   "execution_count": 10,
   "id": "65e71129",
   "metadata": {},
   "outputs": [
    {
     "name": "stdout",
     "output_type": "stream",
     "text": [
      "True\n",
      "False\n"
     ]
    }
   ],
   "source": [
    "#membership of list\n",
    "a=[20,30,40,50,60]\n",
    "print(20 in a)\n",
    "print(70 in a)\n"
   ]
  },
  {
   "cell_type": "code",
   "execution_count": 12,
   "id": "62a180ac",
   "metadata": {},
   "outputs": [
    {
     "name": "stdout",
     "output_type": "stream",
     "text": [
      "enter number of element in ithe list5\n",
      "enter list item1\n",
      "enter list item2\n",
      "enter list item3\n",
      "enter list item4\n",
      "enter list item5\n",
      "list item\n",
      "12345"
     ]
    }
   ],
   "source": [
    "#add element in list\n",
    "a=[]\n",
    "b=int(input(\"enter number of element in ithe list\"))\n",
    "for i in range(0,b):\n",
    "    a.append(input(\"enter list item\"))\n",
    "print(\"list item\")\n",
    "for i in a:\n",
    "    print(i,end=\"\")"
   ]
  },
  {
   "cell_type": "code",
   "execution_count": 1,
   "id": "12f6f560",
   "metadata": {},
   "outputs": [
    {
     "name": "stdout",
     "output_type": "stream",
     "text": [
      "[12, 23, 42, 43, 65, 65, 446, 765]\n"
     ]
    }
   ],
   "source": [
    "number=[23,43,65,765,446,12,42,65]\n",
    "for i in range(len(number)):\n",
    "    for j in range(i+1 , len(number)):\n",
    "        if number[i] > number[j]:\n",
    "            number[i],number[j]=number[j],number[i]\n",
    "print(number)"
   ]
  },
  {
   "cell_type": "code",
   "execution_count": 1,
   "id": "58377809",
   "metadata": {},
   "outputs": [
    {
     "name": "stdout",
     "output_type": "stream",
     "text": [
      "[97, 87, 66, 54, 9, 5, 3, 3, 2]\n"
     ]
    }
   ],
   "source": [
    "#descending order\n",
    "a=[5,97,54,3,66,87,2,3,9]\n",
    "for i in range(0,len(a)):\n",
    "    for j in range(i,len(a)):\n",
    "        if a[j]>a[i]:\n",
    "            a[j],a[i]=a[i],a[j]\n",
    "print(a)"
   ]
  },
  {
   "cell_type": "code",
   "execution_count": 3,
   "id": "f5c7a250",
   "metadata": {},
   "outputs": [
    {
     "name": "stdout",
     "output_type": "stream",
     "text": [
      "[-6, -5, -5, -3, -2, 5, 6, 8, 9]\n"
     ]
    }
   ],
   "source": [
    "a=[-2,-3,5,6,-5,9,-5,8,-6]\n",
    "for i in range(0,len(a)):\n",
    "    for j in range(i,len(a)):\n",
    "        if a[i]>a[j]:\n",
    "            a[i],a[j]=a[j],a[i]\n",
    "print(a)\n"
   ]
  },
  {
   "cell_type": "code",
   "execution_count": null,
   "id": "097105f2",
   "metadata": {},
   "outputs": [],
   "source": []
  }
 ],
 "metadata": {
  "kernelspec": {
   "display_name": "Python 3 (ipykernel)",
   "language": "python",
   "name": "python3"
  },
  "language_info": {
   "codemirror_mode": {
    "name": "ipython",
    "version": 3
   },
   "file_extension": ".py",
   "mimetype": "text/x-python",
   "name": "python",
   "nbconvert_exporter": "python",
   "pygments_lexer": "ipython3",
   "version": "3.10.9"
  }
 },
 "nbformat": 4,
 "nbformat_minor": 5
}
