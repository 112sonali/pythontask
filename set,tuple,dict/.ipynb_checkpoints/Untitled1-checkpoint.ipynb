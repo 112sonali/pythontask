{
 "cells": [
  {
   "cell_type": "code",
   "execution_count": 2,
   "id": "6bc7e622",
   "metadata": {},
   "outputs": [
    {
     "name": "stdout",
     "output_type": "stream",
     "text": [
      "{'name': 'sona', 'course': 'python', 'year': 2024}\n"
     ]
    }
   ],
   "source": [
    "#dictionary\n",
    "a={\n",
    "    \"name\":\"sona\",\n",
    "    \"course\":\"python\",\n",
    "    \"year\":2024\n",
    "}\n",
    "print(a)"
   ]
  },
  {
   "cell_type": "code",
   "execution_count": 3,
   "id": "0183b4b0",
   "metadata": {},
   "outputs": [
    {
     "name": "stdout",
     "output_type": "stream",
     "text": [
      "{'class': 1, 'sub': 'cs', 'stu': 10}\n",
      "<class 'dict'>\n"
     ]
    }
   ],
   "source": [
    "a={\n",
    "    \"class\":1,\n",
    "    \"sub\":\"cs\",\n",
    "    \"stu\":10\n",
    "}\n",
    "print(a)\n",
    "print(type(a))"
   ]
  },
  {
   "cell_type": "code",
   "execution_count": 6,
   "id": "82eda0d0",
   "metadata": {},
   "outputs": [
    {
     "name": "stdout",
     "output_type": "stream",
     "text": [
      "bca\n"
     ]
    }
   ],
   "source": [
    "a={\n",
    "    \"course1\":\"btech\",\n",
    "    \"year\":4,\n",
    "    \"course2\":\"bca\",\n",
    "    \"year\":3\n",
    "}\n",
    "print(a[\"course2\"])"
   ]
  },
  {
   "cell_type": "code",
   "execution_count": 7,
   "id": "bba8648e",
   "metadata": {},
   "outputs": [
    {
     "name": "stdout",
     "output_type": "stream",
     "text": [
      "{'fruit1': 'mango', 'fruit2': 'cherry', 'fruit3': 'orange'}\n"
     ]
    }
   ],
   "source": [
    "#duplicates not allowed\n",
    "a={\n",
    "    \"fruit1\":\"mango\",\n",
    "    \"fruit2\":\"cherry\",\n",
    "    \"fruit3\":\"kiwi\",\n",
    "    \"fruit3\":\"orange\"\n",
    "}\n",
    "print(a)"
   ]
  },
  {
   "cell_type": "code",
   "execution_count": 8,
   "id": "82d85a0f",
   "metadata": {},
   "outputs": [
    {
     "name": "stdout",
     "output_type": "stream",
     "text": [
      "3\n"
     ]
    }
   ],
   "source": [
    "#dict length\n",
    "a={\n",
    "    \"course1\":\"btech\",\n",
    "    \"year\":4,\n",
    "    \"course2\":\"bca\",\n",
    "    \"year\":3\n",
    "}\n",
    "print(len(a))\n"
   ]
  },
  {
   "cell_type": "code",
   "execution_count": 9,
   "id": "2609a872",
   "metadata": {},
   "outputs": [
    {
     "name": "stdout",
     "output_type": "stream",
     "text": [
      "{'name': 'sona', 'year': 2024, 'course': True, 'branch': ['cs', 'ec', 'ca']}\n"
     ]
    }
   ],
   "source": [
    "#dict datatypes\n",
    "a={\n",
    "    \"name\":\"sona\",\n",
    "    \"year\":2024,\n",
    "    \"course\":True,\n",
    "    \"branch\":[\"cs\",\"ec\",\"ca\"]\n",
    "    \n",
    "}\n",
    "print(a)"
   ]
  },
  {
   "cell_type": "code",
   "execution_count": 10,
   "id": "821c741b",
   "metadata": {},
   "outputs": [
    {
     "name": "stdout",
     "output_type": "stream",
     "text": [
      "{'name': 'sona', 'cousre': 'python', 'year': 2024}\n"
     ]
    }
   ],
   "source": [
    "#dict constructor\n",
    "a=dict(name=\"sona\",cousre=\"python\",year=2024)\n",
    "print(a)"
   ]
  },
  {
   "cell_type": "code",
   "execution_count": 11,
   "id": "5ad201aa",
   "metadata": {},
   "outputs": [
    {
     "name": "stdout",
     "output_type": "stream",
     "text": [
      "kiwi\n"
     ]
    }
   ],
   "source": [
    "#accessing items\n",
    "fruits={\n",
    "    \"fruit1\":\"mango\",\n",
    "    \"fruit2\":\"orange\",\n",
    "    \"fruit3\":\"kiwi\",\n",
    "    \"fruit4\":\"watermelon\"\n",
    "}\n",
    "new_fruit=fruits[\"fruit3\"]\n",
    "print(new_fruit)"
   ]
  },
  {
   "cell_type": "code",
   "execution_count": 13,
   "id": "8ecddd51",
   "metadata": {},
   "outputs": [
    {
     "name": "stdout",
     "output_type": "stream",
     "text": [
      "reading\n"
     ]
    }
   ],
   "source": [
    "a={\n",
    "    \"name\":\"xyz\",\n",
    "    \"hobby\":\"reading\",\n",
    "    \"strength\":\"loyality\"\n",
    "}\n",
    "b=a[\"hobby\"]\n",
    "print(b)"
   ]
  },
  {
   "cell_type": "code",
   "execution_count": 15,
   "id": "d8b8b60a",
   "metadata": {},
   "outputs": [
    {
     "name": "stdout",
     "output_type": "stream",
     "text": [
      "mp\n"
     ]
    }
   ],
   "source": [
    "#use get method\n",
    "a={\n",
    "    \"name\":\"prq\",\n",
    "    \"state\":\"mp\",\n",
    "    \"city\":\"indore\"\n",
    "}\n",
    "b=a.get(\"state\")\n",
    "print(b)"
   ]
  },
  {
   "cell_type": "code",
   "execution_count": 16,
   "id": "bab22e79",
   "metadata": {},
   "outputs": [
    {
     "name": "stdout",
     "output_type": "stream",
     "text": [
      "orange\n"
     ]
    }
   ],
   "source": [
    "a={\n",
    "    \"fruit1\":\"kiwi\",\n",
    "    \"fruit2\":\"orange\",\n",
    "    \"fruit3\":\"mango\",\n",
    "    \"fruit4\":\"cherry\"\n",
    "}\n",
    "b=a.get(\"fruit2\")\n",
    "print(b)"
   ]
  },
  {
   "cell_type": "code",
   "execution_count": 23,
   "id": "ab24be6c",
   "metadata": {},
   "outputs": [
    {
     "name": "stdout",
     "output_type": "stream",
     "text": [
      "dict_keys(['fruit1', 'fruit2', 'fruit3', 'fruit4'])\n"
     ]
    }
   ],
   "source": [
    "#get keys\n",
    "a={\n",
    "    \"fruit1\":\"kiwi\",\n",
    "    \"fruit2\":\"orange\",\n",
    "    \"fruit3\":\"mango\",\n",
    "    \"fruit4\":\"cherry\"\n",
    "}\n",
    "b=a.keys()\n",
    "print(b)\n"
   ]
  },
  {
   "cell_type": "code",
   "execution_count": 19,
   "id": "d7389c0c",
   "metadata": {},
   "outputs": [
    {
     "name": "stdout",
     "output_type": "stream",
     "text": [
      "dict_keys(['stu1', 'stu2', 'stu3', 'stu4'])\n"
     ]
    }
   ],
   "source": [
    "a={\n",
    "    \"stu1\":\"xyz\",\n",
    "    \"stu2\":\"jkl\",\n",
    "    \"stu3\":\"pqr\",\n",
    "    \"stu4\":\"abc\"\n",
    "}\n",
    "print(a.keys())"
   ]
  },
  {
   "cell_type": "code",
   "execution_count": 22,
   "id": "4e225abe",
   "metadata": {},
   "outputs": [
    {
     "name": "stdout",
     "output_type": "stream",
     "text": [
      "dict_keys(['stu1', 'stu2', 'stu3', 'stu4'])\n"
     ]
    }
   ],
   "source": [
    "a={\n",
    "    \"stu1\":\"xyz\",\n",
    "    \"stu2\":\"jkl\",\n",
    "    \"stu3\":\"pqr\",\n",
    "    \"stu4\":\"abc\"\n",
    "}\n",
    "b=a.keys()\n",
    "print(b)"
   ]
  },
  {
   "cell_type": "code",
   "execution_count": 27,
   "id": "4f38e151",
   "metadata": {},
   "outputs": [
    {
     "name": "stdout",
     "output_type": "stream",
     "text": [
      "dict_keys(['fruit1', 'fruit2', 'fruit3', 'fruit4'])\n",
      "dict_keys(['fruit1', 'fruit2', 'fruit3', 'fruit4', 'fruit5'])\n"
     ]
    }
   ],
   "source": [
    "a={\n",
    "    \"fruit1\":\"kiwi\",\n",
    "    \"fruit2\":\"orange\",\n",
    "    \"fruit3\":\"mango\",\n",
    "    \"fruit4\":\"cherry\"\n",
    "}\n",
    "b=a.keys()\n",
    "print(b)\n",
    "a[\"fruit5\"]=\"papaya\"\n",
    "print(b)"
   ]
  },
  {
   "cell_type": "code",
   "execution_count": 7,
   "id": "fd65a94c",
   "metadata": {},
   "outputs": [
    {
     "name": "stdout",
     "output_type": "stream",
     "text": [
      "xyz\n"
     ]
    }
   ],
   "source": [
    "student={\n",
    "    \"name\":\"xyz\",\n",
    "    \"age\":27,\n",
    "    \"grade\":\"A\"\n",
    "}\n",
    "print(student[\"name\"])"
   ]
  },
  {
   "cell_type": "code",
   "execution_count": 8,
   "id": "af5b63da",
   "metadata": {},
   "outputs": [
    {
     "name": "stdout",
     "output_type": "stream",
     "text": [
      "{'name': 'xyz', 'age': 27, 'grade': 'A'}\n"
     ]
    }
   ],
   "source": [
    "student={\n",
    "    \"name\":\"xyz\",\n",
    "    \"age\":27,\n",
    "    \"grade\":\"B\"\n",
    "    \n",
    "}\n",
    "student[\"grade\"]=\"A\"\n",
    "print(student)\n"
   ]
  },
  {
   "cell_type": "code",
   "execution_count": 34,
   "id": "d8911be9",
   "metadata": {},
   "outputs": [
    {
     "name": "stdout",
     "output_type": "stream",
     "text": [
      "dict_keys(['num1', 'num2', 'num3', 'num4'])\n",
      "dict_keys(['num1', 'num2', 'num3', 'num4', 'num5'])\n"
     ]
    }
   ],
   "source": [
    "numbers={\n",
    "    \"num1\":78,\n",
    "    \"num2\":89,\n",
    "    \"num3\":90,\n",
    "    \"num4\":67\n",
    "}\n",
    "new_num=numbers.keys()\n",
    "print(new_num)\n",
    "numbers[\"num5\"]=98\n",
    "print(new_num)"
   ]
  },
  {
   "cell_type": "code",
   "execution_count": 9,
   "id": "6691365b",
   "metadata": {},
   "outputs": [
    {
     "name": "stdout",
     "output_type": "stream",
     "text": [
      "{'name': 'xyz', 'grade': 'B'}\n"
     ]
    }
   ],
   "source": [
    "student={\n",
    "    \"name\":\"xyz\",\n",
    "    \"age\":27,\n",
    "    \"grade\":\"B\"\n",
    "    \n",
    "}\n",
    "student.pop(\"age\")\n",
    "print(student)"
   ]
  },
  {
   "cell_type": "code",
   "execution_count": 11,
   "id": "d78b1cdd",
   "metadata": {},
   "outputs": [
    {
     "name": "stdout",
     "output_type": "stream",
     "text": [
      "['name', 'age', 'grade']\n"
     ]
    }
   ],
   "source": [
    "student={\n",
    "    \"name\":\"xyz\",\n",
    "    \"age\":27,\n",
    "    \"grade\":\"B\"\n",
    "    \n",
    "}\n",
    "new=student.copy()\n",
    "new=list(student)\n",
    "print(new)\n"
   ]
  },
  {
   "cell_type": "code",
   "execution_count": 13,
   "id": "f43f4434",
   "metadata": {},
   "outputs": [
    {
     "name": "stdout",
     "output_type": "stream",
     "text": [
      "{'high_marks': {'marks1': 99, 'marks2': 91}, 'author': {'name': 'xyz', 'name2': 'pqr'}}\n"
     ]
    }
   ],
   "source": [
    "all={\n",
    "    \"high_marks\":{\n",
    "    \"marks1\":99,\n",
    "    \"marks2\":91\n",
    "},\n",
    "    \"author\":{\n",
    "    \"name\":\"xyz\",\n",
    "    \"name2\":\"pqr\"\n",
    "}\n",
    "}\n",
    "\n",
    "print(all)"
   ]
  },
  {
   "cell_type": "code",
   "execution_count": 18,
   "id": "f6c1940d",
   "metadata": {},
   "outputs": [
    {
     "name": "stdout",
     "output_type": "stream",
     "text": [
      "{'marks': 98, 'marks3': 97}\n",
      "john\n"
     ]
    }
   ],
   "source": [
    "score={\n",
    "    \"marks\":98,\n",
    "    \"marks2\":78,\n",
    "    \"marks3\":97\n",
    "    \n",
    "}\n",
    "higher_marks={key:value for key,value in score.items() if value > 90}\n",
    "print(higher_marks)\n",
    "book_info={\n",
    "    \"book_title\":\"xyz\",\n",
    "    \"author_name\":\"john\",\n",
    "    \"price\":780\n",
    "}\n",
    "print(book_info[\"author_name\"])"
   ]
  },
  {
   "cell_type": "code",
   "execution_count": 19,
   "id": "93848da5",
   "metadata": {},
   "outputs": [
    {
     "name": "stdout",
     "output_type": "stream",
     "text": [
      "{'marks': 98, 'marks3': 97, 'marks4': 93}\n",
      "john\n"
     ]
    }
   ],
   "source": [
    "score={\n",
    "    \"marks\":98,\n",
    "    \"marks2\":78,\n",
    "    \"marks3\":97\n",
    "    \n",
    "}\n",
    "score[\"marks4\"]=93\n",
    "score[\"marks5\"]=89\n",
    "higher_marks={key:value for key,value in score.items() if value > 90}\n",
    "print(higher_marks)\n",
    "book_info={\n",
    "    \"book_title\":\"xyz\",\n",
    "    \"author_name\":\"john\",\n",
    "    \"price\":780\n",
    "}\n",
    "print(book_info[\"author_name\"])"
   ]
  },
  {
   "cell_type": "code",
   "execution_count": 10,
   "id": "b6da17ee",
   "metadata": {},
   "outputs": [
    {
     "name": "stdout",
     "output_type": "stream",
     "text": [
      "{'name': 'xyz', 'age': 27, 'grade': 'B'}\n"
     ]
    }
   ],
   "source": [
    "student={\n",
    "    \"name\":\"xyz\",\n",
    "    \"age\":27,\n",
    "    \"grade\":\"B\"\n",
    "    \n",
    "}\n",
    "new=student.copy()\n",
    "print(new)"
   ]
  },
  {
   "cell_type": "code",
   "execution_count": 35,
   "id": "6f1d4db3",
   "metadata": {},
   "outputs": [
    {
     "name": "stdout",
     "output_type": "stream",
     "text": [
      "dict_values([78, 89, 90, 67])\n"
     ]
    }
   ],
   "source": [
    "#get values\n",
    "numbers={\n",
    "    \"num1\":78,\n",
    "    \"num2\":89,\n",
    "    \"num3\":90,\n",
    "    \"num4\":67\n",
    "}\n",
    "b=numbers.values()\n",
    "print(b)\n"
   ]
  },
  {
   "cell_type": "code",
   "execution_count": 39,
   "id": "aea5efa3",
   "metadata": {},
   "outputs": [
    {
     "name": "stdout",
     "output_type": "stream",
     "text": [
      "dict_values([1, 2, 3, 4])\n",
      "dict_values([1, 2, 3, 4, 5])\n"
     ]
    }
   ],
   "source": [
    "stu={\n",
    "    \"stu1\":1,\n",
    "    \"stu2\":2,\n",
    "    \"stu3\":3,\n",
    "    \"stu4\":4\n",
    "}\n",
    "b=stu.values()\n",
    "print(b)\n",
    "stu[\"stu5\"]=5\n",
    "print(b)"
   ]
  },
  {
   "cell_type": "code",
   "execution_count": 43,
   "id": "468dae61",
   "metadata": {},
   "outputs": [
    {
     "name": "stdout",
     "output_type": "stream",
     "text": [
      "dict_values([450, 1, 2, 'cs'])\n",
      "dict_values([450, 1, 2, 'cs', 12])\n"
     ]
    }
   ],
   "source": [
    "a={\n",
    "    \"marks\":450,\n",
    "    \"div\":1,\n",
    "    \"rank\":2,\n",
    "    \"sub\":\"cs\"\n",
    "}\n",
    "b=a.values()\n",
    "print(b)\n",
    "a[\"stu\"]=12\n",
    "print(b)"
   ]
  },
  {
   "cell_type": "code",
   "execution_count": 44,
   "id": "319ae2aa",
   "metadata": {},
   "outputs": [
    {
     "name": "stdout",
     "output_type": "stream",
     "text": [
      "dict_items([('marks', 450), ('div', 1), ('rank', 2), ('sub', 'cs')])\n"
     ]
    }
   ],
   "source": [
    "#get items\n",
    "a={\n",
    "    \"marks\":450,\n",
    "    \"div\":1,\n",
    "    \"rank\":2,\n",
    "    \"sub\":\"cs\"\n",
    "}\n",
    "b=a.items()\n",
    "print(b)"
   ]
  },
  {
   "cell_type": "code",
   "execution_count": 46,
   "id": "22340ce5",
   "metadata": {},
   "outputs": [
    {
     "name": "stdout",
     "output_type": "stream",
     "text": [
      "dict_items([('frui1', 2), ('frui2', 3), ('frui3', 4), ('frui4', 1)])\n"
     ]
    }
   ],
   "source": [
    "#display value in tuple form\n",
    "fruits={\n",
    "    \"frui1\":2,\n",
    "    \"frui2\":3,\n",
    "    \"frui3\":4,\n",
    "    \"frui4\":1\n",
    "}\n",
    "new=fruits.items()\n",
    "print(new)"
   ]
  },
  {
   "cell_type": "code",
   "execution_count": 49,
   "id": "c1d5874e",
   "metadata": {},
   "outputs": [
    {
     "name": "stdout",
     "output_type": "stream",
     "text": [
      "dict_items([('cs', 4), ('stu', 67), ('fee', 'submit'), ('year', 2023)])\n",
      "dict_items([('cs', 4), ('stu', 67), ('fee', 'submit'), ('year', 2024)])\n"
     ]
    }
   ],
   "source": [
    "#update(make a change in original dict)\n",
    "a={\n",
    "    \"cs\":4,\n",
    "    \"stu\":67,\n",
    "    \"fee\":\"submit\",\n",
    "    \"year\":2023\n",
    "}\n",
    "b=a.items()\n",
    "print(b)\n",
    "a[\"year\"]=2024\n",
    "print(b)"
   ]
  },
  {
   "cell_type": "code",
   "execution_count": 51,
   "id": "b9f64a41",
   "metadata": {},
   "outputs": [
    {
     "name": "stdout",
     "output_type": "stream",
     "text": [
      "dict_items([('stu', 'sona'), ('sub', 'cs'), ('deg', 'master')])\n",
      "dict_items([('stu', 'sona'), ('sub', 'cs'), ('deg', 'master'), ('year', 2024)])\n"
     ]
    }
   ],
   "source": [
    "#add new item in original dict\n",
    "a={\n",
    "    \"stu\":\"sona\",\n",
    "    \"sub\":\"cs\",\n",
    "    \"deg\":\"master\"\n",
    "}\n",
    "b=a.items()\n",
    "print(b)\n",
    "a[\"year\"]=2024\n",
    "print(b)\n"
   ]
  },
  {
   "cell_type": "code",
   "execution_count": 54,
   "id": "a355d8c7",
   "metadata": {},
   "outputs": [
    {
     "name": "stdout",
     "output_type": "stream",
     "text": [
      "yes,'fru2 is present'\n"
     ]
    }
   ],
   "source": [
    "#check if key exist\n",
    "fruit={\n",
    "    \"fru1\":\"orange\",\n",
    "    \"fru2\":\"kiwi\",\n",
    "    \"fru3\":\"mango\",\n",
    "    \"fru4\":\"cherry\"\n",
    "    \n",
    "}\n",
    "if \"fru2\" in fruit:\n",
    "    print(\"yes,'fru2 is present'\")"
   ]
  },
  {
   "cell_type": "code",
   "execution_count": 56,
   "id": "6cab3a31",
   "metadata": {},
   "outputs": [
    {
     "name": "stdout",
     "output_type": "stream",
     "text": [
      "yes,'fru3' is present\n"
     ]
    }
   ],
   "source": [
    "fruit={\n",
    "    \"fru1\":\"orange\",\n",
    "    \"fru2\":\"kiwi\",\n",
    "    \"fru3\":\"mango\",\n",
    "    \"fru4\":\"cherry\"\n",
    "    \n",
    "}\n",
    "if \"fru3\" in fruit:\n",
    "    print(\"yes,'fru3' is present\")"
   ]
  },
  {
   "cell_type": "code",
   "execution_count": 57,
   "id": "80c6bdcf",
   "metadata": {},
   "outputs": [
    {
     "name": "stdout",
     "output_type": "stream",
     "text": [
      "{'s1': 2, 's2': 3, 's3': 4, 's5': 1}\n"
     ]
    }
   ],
   "source": [
    "#change values\n",
    "stu={\n",
    "    \"s1\":2,\n",
    "    \"s2\":3,\n",
    "    \"s3\":4,\n",
    "    \"s5\":5\n",
    "}\n",
    "stu[\"s5\"]=1\n",
    "print(stu)"
   ]
  },
  {
   "cell_type": "code",
   "execution_count": 58,
   "id": "2f3afce5",
   "metadata": {},
   "outputs": [
    {
     "name": "stdout",
     "output_type": "stream",
     "text": [
      "{'stu': 'sona', 'sub': 'cs', 'deg': 'master', 'year': 2024, 's5': 1}\n"
     ]
    }
   ],
   "source": [
    "#update method\n",
    "stu={\n",
    "    \"s1\":2,\n",
    "    \"s2\":3,\n",
    "    \"s3\":4,\n",
    "    \"s5\":5\n",
    "}\n",
    "a.update({\"s5\":1})\n",
    "print(a)\n"
   ]
  },
  {
   "cell_type": "code",
   "execution_count": 60,
   "id": "19b950cf",
   "metadata": {},
   "outputs": [
    {
     "name": "stdout",
     "output_type": "stream",
     "text": [
      "{'fru1': 'orange', 'fru2': 'kiwi', 'fru3': 'mango', 'fru4': 'papaya'}\n"
     ]
    }
   ],
   "source": [
    "fruit={\n",
    "    \"fru1\":\"orange\",\n",
    "    \"fru2\":\"kiwi\",\n",
    "    \"fru3\":\"mango\",\n",
    "    \"fru4\":\"cherry\"\n",
    "    \n",
    "}\n",
    "fruit.update({\"fru4\":\"papaya\"})\n",
    "print(fruit)"
   ]
  },
  {
   "cell_type": "code",
   "execution_count": 61,
   "id": "eb54f919",
   "metadata": {},
   "outputs": [
    {
     "name": "stdout",
     "output_type": "stream",
     "text": [
      "{'fru1': 'orange', 'fru2': 'kiwi', 'fru3': 'mango', 'fru4': 'cherry', 'fru5': 'apple'}\n"
     ]
    }
   ],
   "source": [
    "#add items\n",
    "fruit={\n",
    "    \"fru1\":\"orange\",\n",
    "    \"fru2\":\"kiwi\",\n",
    "    \"fru3\":\"mango\",\n",
    "    \"fru4\":\"cherry\"\n",
    "    \n",
    "}\n",
    "fruit[\"fru5\"]=\"apple\"\n",
    "print(fruit)\n"
   ]
  },
  {
   "cell_type": "code",
   "execution_count": 62,
   "id": "9c3da1b9",
   "metadata": {},
   "outputs": [
    {
     "name": "stdout",
     "output_type": "stream",
     "text": [
      "{'fru1': 'orange', 'fru2': 'kiwi', 'fru3': 'mango', 'fru4': 'cherry'}\n"
     ]
    }
   ],
   "source": [
    "#update dict\n",
    "fruit={\n",
    "    \"fru1\":\"orange\",\n",
    "    \"fru2\":\"kiwi\",\n",
    "    \"fru3\":\"mango\",\n",
    "    \"fru4\":\"cherry\"\n",
    "    \n",
    "}\n",
    "fruit.update({\"fru1\":\"orange\"})\n",
    "print(fruit)"
   ]
  },
  {
   "cell_type": "code",
   "execution_count": 63,
   "id": "3ebecae7",
   "metadata": {},
   "outputs": [
    {
     "name": "stdout",
     "output_type": "stream",
     "text": [
      "{'fru1': 'orange', 'fru2': 'kiwi', 'fru3': 'mango', 'fru4': 'cherry'}\n"
     ]
    }
   ],
   "source": [
    "#remove items\n",
    "fruit={\n",
    "    \"fru1\":\"orange\",\n",
    "    \"fru2\":\"kiwi\",\n",
    "    \"fru3\":\"mango\",\n",
    "    \"fru4\":\"cherry\",\n",
    "    \"fru5\":\"watermelon\"\n",
    "    \n",
    "}\n",
    "fruit.pop(\"fru5\")\n",
    "print(fruit)"
   ]
  },
  {
   "cell_type": "code",
   "execution_count": 64,
   "id": "ee18e0c7",
   "metadata": {},
   "outputs": [
    {
     "name": "stdout",
     "output_type": "stream",
     "text": [
      "{'fru1': 'orange', 'fru2': 'kiwi', 'fru3': 'mango', 'fru4': 'cherry'}\n"
     ]
    }
   ],
   "source": [
    "#popitem method remove last inserted item\n",
    "fruit={\n",
    "    \"fru1\":\"orange\",\n",
    "    \"fru2\":\"kiwi\",\n",
    "    \"fru3\":\"mango\",\n",
    "    \"fru4\":\"cherry\",\n",
    "    \"fru5\":\"watermelon\"\n",
    "    \n",
    "}\n",
    "fruit.popitem()\n",
    "print(fruit)"
   ]
  },
  {
   "cell_type": "code",
   "execution_count": 66,
   "id": "86b7626a",
   "metadata": {},
   "outputs": [
    {
     "name": "stdout",
     "output_type": "stream",
     "text": [
      "{'fru1': 'orange', 'fru2': 'kiwi', 'fru3': 'mango', 'fru4': 'cherry', 'fruit6': 'banana'}\n"
     ]
    }
   ],
   "source": [
    "#del keyword remove item specified key name\n",
    "fruit={\n",
    "    \"fru1\":\"orange\",\n",
    "    \"fru2\":\"kiwi\",\n",
    "    \"fru3\":\"mango\",\n",
    "    \"fru4\":\"cherry\",\n",
    "    \"fru5\":\"watermelon\",\n",
    "    \"fruit6\":\"banana\"\n",
    "    \n",
    "} \n",
    "del fruit[\"fru5\"]\n",
    "print(fruit)"
   ]
  },
  {
   "cell_type": "code",
   "execution_count": 68,
   "id": "e7af7b08",
   "metadata": {},
   "outputs": [
    {
     "ename": "NameError",
     "evalue": "name 'fruit' is not defined",
     "output_type": "error",
     "traceback": [
      "\u001b[1;31m---------------------------------------------------------------------------\u001b[0m",
      "\u001b[1;31mNameError\u001b[0m                                 Traceback (most recent call last)",
      "Cell \u001b[1;32mIn[68], line 12\u001b[0m\n\u001b[0;32m      2\u001b[0m fruit\u001b[38;5;241m=\u001b[39m{\n\u001b[0;32m      3\u001b[0m     \u001b[38;5;124m\"\u001b[39m\u001b[38;5;124mfru1\u001b[39m\u001b[38;5;124m\"\u001b[39m:\u001b[38;5;124m\"\u001b[39m\u001b[38;5;124morange\u001b[39m\u001b[38;5;124m\"\u001b[39m,\n\u001b[0;32m      4\u001b[0m     \u001b[38;5;124m\"\u001b[39m\u001b[38;5;124mfru2\u001b[39m\u001b[38;5;124m\"\u001b[39m:\u001b[38;5;124m\"\u001b[39m\u001b[38;5;124mkiwi\u001b[39m\u001b[38;5;124m\"\u001b[39m,\n\u001b[1;32m   (...)\u001b[0m\n\u001b[0;32m      9\u001b[0m     \n\u001b[0;32m     10\u001b[0m } \n\u001b[0;32m     11\u001b[0m \u001b[38;5;28;01mdel\u001b[39;00m fruit\n\u001b[1;32m---> 12\u001b[0m \u001b[38;5;28mprint\u001b[39m(\u001b[43mfruit\u001b[49m)\n",
      "\u001b[1;31mNameError\u001b[0m: name 'fruit' is not defined"
     ]
    }
   ],
   "source": [
    "#del delet complet dict\n",
    "fruit={\n",
    "    \"fru1\":\"orange\",\n",
    "    \"fru2\":\"kiwi\",\n",
    "    \"fru3\":\"mango\",\n",
    "    \"fru4\":\"cherry\",\n",
    "    \"fru5\":\"watermelon\",\n",
    "    \"fruit6\":\"banana\"\n",
    "    \n",
    "} \n",
    "del fruit\n",
    "print(fruit)"
   ]
  },
  {
   "cell_type": "code",
   "execution_count": 69,
   "id": "885d8965",
   "metadata": {},
   "outputs": [
    {
     "name": "stdout",
     "output_type": "stream",
     "text": [
      "{}\n"
     ]
    }
   ],
   "source": [
    "#clear method empities the dict\n",
    "fruit={\n",
    "    \"fru1\":\"orange\",\n",
    "    \"fru2\":\"kiwi\",\n",
    "    \"fru3\":\"mango\",\n",
    "    \"fru4\":\"cherry\",\n",
    "    \"fru5\":\"watermelon\",\n",
    "    \"fruit6\":\"banana\"\n",
    "    \n",
    "} \n",
    "fruit.clear()\n",
    "print(fruit)"
   ]
  },
  {
   "cell_type": "code",
   "execution_count": 70,
   "id": "2a41a97a",
   "metadata": {},
   "outputs": [
    {
     "name": "stdout",
     "output_type": "stream",
     "text": [
      "fru1\n",
      "fru2\n",
      "fru3\n",
      "fru4\n",
      "fru5\n",
      "fruit6\n"
     ]
    }
   ],
   "source": [
    "#loop in dict\n",
    "fruit={\n",
    "    \"fru1\":\"orange\",\n",
    "    \"fru2\":\"kiwi\",\n",
    "    \"fru3\":\"mango\",\n",
    "    \"fru4\":\"cherry\",\n",
    "    \"fru5\":\"watermelon\",\n",
    "    \"fruit6\":\"banana\"\n",
    "    \n",
    "} \n",
    "for i in fruit:\n",
    "    print(i)"
   ]
  },
  {
   "cell_type": "code",
   "execution_count": 71,
   "id": "bd9f8474",
   "metadata": {},
   "outputs": [
    {
     "name": "stdout",
     "output_type": "stream",
     "text": [
      "orange\n",
      "kiwi\n",
      "mango\n",
      "cherry\n",
      "watermelon\n",
      "banana\n"
     ]
    }
   ],
   "source": [
    "fruit={\n",
    "    \"fru1\":\"orange\",\n",
    "    \"fru2\":\"kiwi\",\n",
    "    \"fru3\":\"mango\",\n",
    "    \"fru4\":\"cherry\",\n",
    "    \"fru5\":\"watermelon\",\n",
    "    \"fruit6\":\"banana\"\n",
    "    \n",
    "} \n",
    "for i in fruit:\n",
    "    print(fruit[i])"
   ]
  },
  {
   "cell_type": "code",
   "execution_count": 73,
   "id": "b63042a3",
   "metadata": {},
   "outputs": [
    {
     "name": "stdout",
     "output_type": "stream",
     "text": [
      "orange\n",
      "kiwi\n",
      "mango\n",
      "cherry\n",
      "watermelon\n",
      "banana\n"
     ]
    }
   ],
   "source": [
    "#use value methods:\n",
    "fruit={\n",
    "    \"fru1\":\"orange\",\n",
    "    \"fru2\":\"kiwi\",\n",
    "    \"fru3\":\"mango\",\n",
    "    \"fru4\":\"cherry\",\n",
    "    \"fru5\":\"watermelon\",\n",
    "    \"fruit6\":\"banana\"\n",
    "    \n",
    "} \n",
    "for i in fruit.values():\n",
    "    print(i)"
   ]
  },
  {
   "cell_type": "code",
   "execution_count": 74,
   "id": "9398574c",
   "metadata": {},
   "outputs": [
    {
     "name": "stdout",
     "output_type": "stream",
     "text": [
      "fru1\n",
      "fru2\n",
      "fru3\n",
      "fru4\n",
      "fru5\n",
      "fruit6\n"
     ]
    }
   ],
   "source": [
    "#use key method\n",
    "fruit={\n",
    "    \"fru1\":\"orange\",\n",
    "    \"fru2\":\"kiwi\",\n",
    "    \"fru3\":\"mango\",\n",
    "    \"fru4\":\"cherry\",\n",
    "    \"fru5\":\"watermelon\",\n",
    "    \"fruit6\":\"banana\"\n",
    "    \n",
    "} \n",
    "for i in fruit.keys():\n",
    "    print(i)\n"
   ]
  },
  {
   "cell_type": "code",
   "execution_count": 76,
   "id": "d268ec68",
   "metadata": {},
   "outputs": [
    {
     "name": "stdout",
     "output_type": "stream",
     "text": [
      "('fru1', 'orange')\n",
      "('fru2', 'kiwi')\n",
      "('fru3', 'mango')\n",
      "('fru4', 'cherry')\n",
      "('fru5', 'watermelon')\n",
      "('fruit6', 'banana')\n"
     ]
    }
   ],
   "source": [
    "#loop through keys amd values using item\n",
    "fruit={\n",
    "    \"fru1\":\"orange\",\n",
    "    \"fru2\":\"kiwi\",\n",
    "    \"fru3\":\"mango\",\n",
    "    \"fru4\":\"cherry\",\n",
    "    \"fru5\":\"watermelon\",\n",
    "    \"fruit6\":\"banana\"\n",
    "    \n",
    "} \n",
    "for x in fruit.items():\n",
    "    print(x)"
   ]
  },
  {
   "cell_type": "code",
   "execution_count": 77,
   "id": "76d07394",
   "metadata": {},
   "outputs": [
    {
     "name": "stdout",
     "output_type": "stream",
     "text": [
      "{'fru1': 'orange', 'fru2': 'kiwi', 'fru3': 'mango', 'fru4': 'cherry', 'fru5': 'watermelon', 'fruit6': 'banana'}\n"
     ]
    }
   ],
   "source": [
    "#copy method\n",
    "fruit={\n",
    "    \"fru1\":\"orange\",\n",
    "    \"fru2\":\"kiwi\",\n",
    "    \"fru3\":\"mango\",\n",
    "    \"fru4\":\"cherry\",\n",
    "    \"fru5\":\"watermelon\",\n",
    "    \"fruit6\":\"banana\"\n",
    "    \n",
    "} \n",
    "new=fruit.copy()\n",
    "print(new)"
   ]
  },
  {
   "cell_type": "code",
   "execution_count": 79,
   "id": "1fd22291",
   "metadata": {},
   "outputs": [
    {
     "name": "stdout",
     "output_type": "stream",
     "text": [
      "{'fru1': 'orange', 'fru2': 'kiwi', 'fru3': 'mango', 'fru4': 'cherry', 'fru5': 'watermelon', 'fruit6': 'banana'}\n"
     ]
    }
   ],
   "source": [
    "#another way to create copy using dict()\n",
    "fruit={\n",
    "    \"fru1\":\"orange\",\n",
    "    \"fru2\":\"kiwi\",\n",
    "    \"fru3\":\"mango\",\n",
    "    \"fru4\":\"cherry\",\n",
    "    \"fru5\":\"watermelon\",\n",
    "    \"fruit6\":\"banana\"\n",
    "    \n",
    "} \n",
    "new_fruit=dict(fruit)\n",
    "print(new_fruit)"
   ]
  },
  {
   "cell_type": "code",
   "execution_count": 81,
   "id": "0cad4549",
   "metadata": {},
   "outputs": [
    {
     "name": "stdout",
     "output_type": "stream",
     "text": [
      "{'stu1': {'name': 'sona', 'year': '2024'}, 'stu2': {'name': 'sona2', 'year': 2024}}\n"
     ]
    }
   ],
   "source": [
    "#nested dict\n",
    "stu={\n",
    "    \"stu1\":{\n",
    "        \"name\":\"sona\",\n",
    "        \"year\":\"2024\"\n",
    "    },\n",
    "    \"stu2\":{\n",
    "        \"name\":\"sona2\",\n",
    "        \"year\":2024\n",
    "    }\n",
    "}\n",
    "print(stu)"
   ]
  },
  {
   "cell_type": "code",
   "execution_count": 83,
   "id": "f7e8f393",
   "metadata": {},
   "outputs": [
    {
     "name": "stdout",
     "output_type": "stream",
     "text": [
      "{'state1': {'name': 'mp', 'city': 'bhopal'}, 'state2': {'name': 'rj', 'city': 'jaipur'}}\n"
     ]
    }
   ],
   "source": [
    "state={\n",
    "    \"state1\":{\n",
    "        \"name\":\"mp\",\n",
    "        \"city\":\"bhopal\"\n",
    "    },\n",
    "    \"state2\":{\n",
    "        \"name\":\"rj\",\n",
    "        \"city\":\"jaipur\"\n",
    "    }\n",
    "}\n",
    "print(state)"
   ]
  },
  {
   "cell_type": "code",
   "execution_count": 84,
   "id": "1b5247f8",
   "metadata": {},
   "outputs": [
    {
     "name": "stdout",
     "output_type": "stream",
     "text": [
      "{'stu1': {'name': 'xyz', 'sub': 'cs'}, 'stu2': {'name': 'pqr', 'sub': 'ec'}}\n"
     ]
    }
   ],
   "source": [
    "stu1={\n",
    "    \"name\":\"xyz\",\n",
    "    \"sub\":\"cs\"\n",
    "}\n",
    "stu2={\n",
    "    \"name\":\"pqr\",\n",
    "    \"sub\":\"ec\"\n",
    "}\n",
    "new={\n",
    "    \"stu1\":stu1,\n",
    "    \"stu2\":stu2\n",
    "}\n",
    "print(new)"
   ]
  },
  {
   "cell_type": "code",
   "execution_count": 85,
   "id": "e0c60cb7",
   "metadata": {},
   "outputs": [
    {
     "name": "stdout",
     "output_type": "stream",
     "text": [
      "pqr\n"
     ]
    }
   ],
   "source": [
    "stu1={\n",
    "    \"name\":\"xyz\",\n",
    "    \"sub\":\"cs\"\n",
    "}\n",
    "stu2={\n",
    "    \"name\":\"pqr\",\n",
    "    \"sub\":\"ec\"\n",
    "}\n",
    "new={\n",
    "    \"stu1\":stu1,\n",
    "    \"stu2\":stu2\n",
    "}\n",
    "print(new[\"stu2\"][\"name\"])"
   ]
  },
  {
   "cell_type": "code",
   "execution_count": 3,
   "id": "2624eb1b",
   "metadata": {},
   "outputs": [
    {
     "name": "stdout",
     "output_type": "stream",
     "text": [
      "{'roll': None, 'name': None, 'fees': None}\n",
      "{'roll': 0, 'name': 0, 'fees': 0}\n"
     ]
    }
   ],
   "source": [
    "keys=['roll','name','fees']\n",
    "a={\n",
    "    'roll':101,\n",
    "    'name':'ajay'\n",
    "}\n",
    "b={'address':'indore'}\n",
    "b=b.fromkeys(keys)\n",
    "print(b)\n",
    "b=b.fromkeys(keys,0)\n",
    "print(b)"
   ]
  },
  {
   "cell_type": "code",
   "execution_count": 6,
   "id": "d0175b87",
   "metadata": {},
   "outputs": [
    {
     "name": "stdout",
     "output_type": "stream",
     "text": [
      "{'address': 'indore', 'roll': '101'}\n",
      "{'address': 'indore', 'roll': '101', 'rolls': '102'}\n"
     ]
    }
   ],
   "source": [
    "keys=['roll','name','fees']\n",
    "a={\n",
    "    'roll':101,\n",
    "    'name':'ajay'\n",
    "}\n",
    "b={'address':'indore'}\n",
    "b.setdefault('roll','101')\n",
    "print(b)\n",
    "b.setdefault('rolls','102')\n",
    "print(b)"
   ]
  },
  {
   "cell_type": "code",
   "execution_count": null,
   "id": "c4e6af18",
   "metadata": {},
   "outputs": [],
   "source": []
  }
 ],
 "metadata": {
  "kernelspec": {
   "display_name": "Python 3 (ipykernel)",
   "language": "python",
   "name": "python3"
  },
  "language_info": {
   "codemirror_mode": {
    "name": "ipython",
    "version": 3
   },
   "file_extension": ".py",
   "mimetype": "text/x-python",
   "name": "python",
   "nbconvert_exporter": "python",
   "pygments_lexer": "ipython3",
   "version": "3.10.9"
  }
 },
 "nbformat": 4,
 "nbformat_minor": 5
}
