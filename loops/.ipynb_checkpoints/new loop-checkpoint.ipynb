{
 "cells": [
  {
   "cell_type": "code",
   "execution_count": 2,
   "id": "0c210af5",
   "metadata": {},
   "outputs": [
    {
     "name": "stdout",
     "output_type": "stream",
     "text": [
      "1\n",
      "2\n",
      "3\n",
      "4\n"
     ]
    }
   ],
   "source": [
    "i=1\n",
    "while True:\n",
    "    if i==5:\n",
    "        break\n",
    "    print(i)\n",
    "    i=i+1"
   ]
  },
  {
   "cell_type": "code",
   "execution_count": 3,
   "id": "47444481",
   "metadata": {},
   "outputs": [
    {
     "name": "stdout",
     "output_type": "stream",
     "text": [
      "5\n",
      "10\n",
      "15\n",
      "20\n",
      "25\n",
      "30\n",
      "35\n",
      "40\n",
      "45\n",
      "50\n",
      "after loop statement\n"
     ]
    }
   ],
   "source": [
    "#table logic\n",
    "n=5\n",
    "i=n\n",
    "while i<=n*10:\n",
    "    print(i)\n",
    "    i=i+n\n",
    "print(\"after loop statement\")"
   ]
  },
  {
   "cell_type": "code",
   "execution_count": 4,
   "id": "9cd038ad",
   "metadata": {},
   "outputs": [
    {
     "name": "stdout",
     "output_type": "stream",
     "text": [
      "enter number4\n",
      "4\n",
      "8\n",
      "12\n",
      "16\n",
      "20\n",
      "24\n",
      "28\n",
      "32\n",
      "36\n",
      "40\n",
      "after loop statement\n"
     ]
    }
   ],
   "source": [
    "n=int(input(\"enter number\"))\n",
    "i=1\n",
    "while i<=10:\n",
    "    print(i*n)\n",
    "    i+=1\n",
    "print(\"after loop statement\")"
   ]
  },
  {
   "cell_type": "code",
   "execution_count": null,
   "id": "1f2d214e",
   "metadata": {},
   "outputs": [],
   "source": [
    "n=5\n",
    "i=10*n\n",
    "while i>=n:\n",
    "    print(i)\n",
    "    i=i-n"
   ]
  },
  {
   "cell_type": "code",
   "execution_count": null,
   "id": "0ff459a1",
   "metadata": {},
   "outputs": [],
   "source": []
  }
 ],
 "metadata": {
  "kernelspec": {
   "display_name": "Python 3 (ipykernel)",
   "language": "python",
   "name": "python3"
  },
  "language_info": {
   "codemirror_mode": {
    "name": "ipython",
    "version": 3
   },
   "file_extension": ".py",
   "mimetype": "text/x-python",
   "name": "python",
   "nbconvert_exporter": "python",
   "pygments_lexer": "ipython3",
   "version": "3.10.9"
  }
 },
 "nbformat": 4,
 "nbformat_minor": 5
}
