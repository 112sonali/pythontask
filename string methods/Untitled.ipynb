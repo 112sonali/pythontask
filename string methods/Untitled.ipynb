{
 "cells": [
  {
   "cell_type": "code",
   "execution_count": 1,
   "id": "99c6b121",
   "metadata": {},
   "outputs": [
    {
     "name": "stdout",
     "output_type": "stream",
     "text": [
      "si\n"
     ]
    }
   ],
   "source": [
    "a=\"sonali\"\n",
    "b=a[::5]\n",
    "print(b)"
   ]
  },
  {
   "cell_type": "code",
   "execution_count": 2,
   "id": "82635e79",
   "metadata": {},
   "outputs": [
    {
     "name": "stdout",
     "output_type": "stream",
     "text": [
      "Hello world\n"
     ]
    }
   ],
   "source": [
    "a=\"hello world\"\n",
    "b=a.capitalize()\n",
    "print(b)"
   ]
  },
  {
   "cell_type": "code",
   "execution_count": 15,
   "id": "bdfac0ea",
   "metadata": {},
   "outputs": [
    {
     "name": "stdout",
     "output_type": "stream",
     "text": [
      "hello world\n"
     ]
    }
   ],
   "source": [
    "a=\"Hello World\"\n",
    "b=a.casefold()\n",
    "print(b)"
   ]
  },
  {
   "cell_type": "code",
   "execution_count": 16,
   "id": "8bc5ce27",
   "metadata": {},
   "outputs": [
    {
     "name": "stdout",
     "output_type": "stream",
     "text": [
      "**hello world**\n"
     ]
    }
   ],
   "source": [
    "a=\"hello world\"\n",
    "a=a.center(15,'*')\n",
    "print(a)"
   ]
  },
  {
   "cell_type": "code",
   "execution_count": 1,
   "id": "88cb8f33",
   "metadata": {},
   "outputs": [
    {
     "name": "stdout",
     "output_type": "stream",
     "text": [
      "hello\n"
     ]
    }
   ],
   "source": [
    "a=\"hello\"\n",
    "print(a)#assign string to a variable"
   ]
  },
  {
   "cell_type": "code",
   "execution_count": 2,
   "id": "2ad5382f",
   "metadata": {},
   "outputs": [
    {
     "name": "stdout",
     "output_type": "stream",
     "text": [
      "hello\n",
      "    hy\n",
      "    how are you\n"
     ]
    }
   ],
   "source": [
    "a=\"\"\"hello\n",
    "    hy\n",
    "    how are you\"\"\"\n",
    "print(a)#multiline string"
   ]
  },
  {
   "cell_type": "code",
   "execution_count": 3,
   "id": "d467ffd8",
   "metadata": {},
   "outputs": [
    {
     "name": "stdout",
     "output_type": "stream",
     "text": [
      "e\n"
     ]
    }
   ],
   "source": [
    "a=\"hello python\"\n",
    "print(a[1])#string are arrays"
   ]
  },
  {
   "cell_type": "code",
   "execution_count": 4,
   "id": "5d8d817a",
   "metadata": {},
   "outputs": [
    {
     "name": "stdout",
     "output_type": "stream",
     "text": [
      "12\n"
     ]
    }
   ],
   "source": [
    "a=\"hello python\"\n",
    "print(len(a))#get the length of string\n"
   ]
  },
  {
   "cell_type": "code",
   "execution_count": 5,
   "id": "c3113556",
   "metadata": {},
   "outputs": [
    {
     "name": "stdout",
     "output_type": "stream",
     "text": [
      "True\n"
     ]
    }
   ],
   "source": [
    "txt=\"hello how are you\"\n",
    "print(\"are\" in txt)#check character is present in string"
   ]
  },
  {
   "cell_type": "code",
   "execution_count": 7,
   "id": "b46d017b",
   "metadata": {},
   "outputs": [
    {
     "name": "stdout",
     "output_type": "stream",
     "text": [
      "yes,'are'is present.\n"
     ]
    }
   ],
   "source": [
    "txt=\"hello how are you\"\n",
    "if \"are\" in txt:#use if statement\n",
    "    print(\"yes,'are'is present.\")\n",
    "    "
   ]
  },
  {
   "cell_type": "code",
   "execution_count": 8,
   "id": "dfb5fa19",
   "metadata": {},
   "outputs": [
    {
     "name": "stdout",
     "output_type": "stream",
     "text": [
      "False\n"
     ]
    }
   ],
   "source": [
    "txt=\"hello what about your study\"\n",
    "print(\"about\" not in txt)#check if not"
   ]
  },
  {
   "cell_type": "code",
   "execution_count": 11,
   "id": "984c9fe8",
   "metadata": {},
   "outputs": [],
   "source": [
    "txt=\"hello what are you doing\"\n",
    "if \"are\" not in txt:#use in an if statement\n",
    "    print(\"No,'expensive' is Not present\")"
   ]
  },
  {
   "cell_type": "code",
   "execution_count": 13,
   "id": "2463c5e7",
   "metadata": {},
   "outputs": [
    {
     "name": "stdout",
     "output_type": "stream",
     "text": [
      "llo\n"
     ]
    }
   ],
   "source": [
    "#slicing\n",
    "a=\"hello python.\"\n",
    "print(a[2:5])"
   ]
  },
  {
   "cell_type": "code",
   "execution_count": 14,
   "id": "9f292ad8",
   "metadata": {},
   "outputs": [
    {
     "name": "stdout",
     "output_type": "stream",
     "text": [
      "hello\n"
     ]
    }
   ],
   "source": [
    "#slicing from start\n",
    "a=\"hello how r you\"\n",
    "print(a[:5])"
   ]
  },
  {
   "cell_type": "code",
   "execution_count": 15,
   "id": "2f45d717",
   "metadata": {},
   "outputs": [
    {
     "name": "stdout",
     "output_type": "stream",
     "text": [
      "ello python\n"
     ]
    }
   ],
   "source": [
    "#slice to the end\n",
    "a=\"hello python\"\n",
    "print(a[1:])"
   ]
  },
  {
   "cell_type": "code",
   "execution_count": 16,
   "id": "14e8adf2",
   "metadata": {},
   "outputs": [
    {
     "name": "stdout",
     "output_type": "stream",
     "text": [
      "wor\n"
     ]
    }
   ],
   "source": [
    "#Negative indexing(start slice from end of index)\n",
    "a=\"hello world\"\n",
    "print(a[-5:-2])\n"
   ]
  },
  {
   "cell_type": "code",
   "execution_count": 17,
   "id": "a70ccef7",
   "metadata": {},
   "outputs": [
    {
     "name": "stdout",
     "output_type": "stream",
     "text": [
      "HELLO PYTHON\n"
     ]
    }
   ],
   "source": [
    "#uppercase\n",
    "a=\"hello python\"\n",
    "print(a.upper())"
   ]
  },
  {
   "cell_type": "code",
   "execution_count": 18,
   "id": "18864fe0",
   "metadata": {},
   "outputs": [
    {
     "name": "stdout",
     "output_type": "stream",
     "text": [
      "hello python\n"
     ]
    }
   ],
   "source": [
    "#lower case\n",
    "a=\"HELLO PYTHON\"\n",
    "print(a.lower())"
   ]
  },
  {
   "cell_type": "code",
   "execution_count": 19,
   "id": "cf1c512b",
   "metadata": {},
   "outputs": [
    {
     "name": "stdout",
     "output_type": "stream",
     "text": [
      "hello python\n"
     ]
    }
   ],
   "source": [
    "#remove whitespaces\n",
    "a=\"   hello python   \"\n",
    "print(a.strip())"
   ]
  },
  {
   "cell_type": "code",
   "execution_count": 20,
   "id": "32a29811",
   "metadata": {},
   "outputs": [
    {
     "name": "stdout",
     "output_type": "stream",
     "text": [
      "jello pytjon\n"
     ]
    }
   ],
   "source": [
    "#replace string\n",
    "a=\"hello python\"\n",
    "print(a.replace(\"h\",\"j\"))"
   ]
  },
  {
   "cell_type": "code",
   "execution_count": 22,
   "id": "c7cbe2e6",
   "metadata": {},
   "outputs": [
    {
     "name": "stdout",
     "output_type": "stream",
     "text": [
      "['hello', ' python']\n"
     ]
    }
   ],
   "source": [
    "#split string\n",
    "a=\"hello. python\"\n",
    "print(a.split(\".\"))"
   ]
  },
  {
   "cell_type": "code",
   "execution_count": 23,
   "id": "3f8f1609",
   "metadata": {},
   "outputs": [
    {
     "name": "stdout",
     "output_type": "stream",
     "text": [
      "hellopython\n"
     ]
    }
   ],
   "source": [
    "#concatenate string\n",
    "a=\"hello\"\n",
    "b=\"python\"\n",
    "c=a+b\n",
    "print(c)"
   ]
  },
  {
   "cell_type": "code",
   "execution_count": 25,
   "id": "558fec36",
   "metadata": {},
   "outputs": [
    {
     "name": "stdout",
     "output_type": "stream",
     "text": [
      "hello python\n"
     ]
    }
   ],
   "source": [
    "a=\"hello\"\n",
    "b=\"python\"\n",
    "c=a+\" \"+b\n",
    "print(c)"
   ]
  },
  {
   "cell_type": "code",
   "execution_count": 26,
   "id": "2d79cd42",
   "metadata": {},
   "outputs": [
    {
     "name": "stdout",
     "output_type": "stream",
     "text": [
      "my name is xyz,and i am 30\n"
     ]
    }
   ],
   "source": [
    "#string format(combine string and number using format)\n",
    "age=30\n",
    "txt=\"my name is xyz,and i am {}\"\n",
    "print(txt.format(age))"
   ]
  },
  {
   "cell_type": "code",
   "execution_count": 27,
   "id": "7cbbcd66",
   "metadata": {},
   "outputs": [
    {
     "name": "stdout",
     "output_type": "stream",
     "text": [
      "i want4 pieces of item 1211 for 987 rupees.\n"
     ]
    }
   ],
   "source": [
    "#unlimited number arguments\n",
    "qty=4\n",
    "item=1211\n",
    "price=987\n",
    "txt=\"i want{} pieces of item {} for {} rupees.\"\n",
    "print(txt.format(qty,item,price))"
   ]
  },
  {
   "cell_type": "code",
   "execution_count": 28,
   "id": "e94b29df",
   "metadata": {},
   "outputs": [
    {
     "name": "stdout",
     "output_type": "stream",
     "text": [
      "i want 1121 item of 809 price for 4 qty.\n"
     ]
    }
   ],
   "source": [
    "#use index in format method\n",
    "qty=4\n",
    "item=1121\n",
    "price=809\n",
    "txt=\"i want {1} item of {2} price for {0} qty.\"\n",
    "print(txt.format(qty,item,price))"
   ]
  },
  {
   "cell_type": "code",
   "execution_count": 31,
   "id": "7a4b483f",
   "metadata": {},
   "outputs": [],
   "source": [
    "#escape character(is a backslash \\ followed by character you want to store)\n",
    "txt=\"we are indians \\\"tiranga\\\"is our national flag.\"\n",
    "\n"
   ]
  },
  {
   "cell_type": "code",
   "execution_count": 32,
   "id": "7d8d9b3e",
   "metadata": {},
   "outputs": [
    {
     "name": "stdout",
     "output_type": "stream",
     "text": [
      "Hello all\n"
     ]
    }
   ],
   "source": [
    "#capitalize method\n",
    "a=\"hello all\"\n",
    "print(a.capitalize())"
   ]
  },
  {
   "cell_type": "code",
   "execution_count": 34,
   "id": "622897bd",
   "metadata": {},
   "outputs": [
    {
     "name": "stdout",
     "output_type": "stream",
     "text": [
      "original string: hello all of you\n",
      "after Capitalize: Hello all of you\n"
     ]
    }
   ],
   "source": [
    "#capitalize first letter of string\n",
    "a=\"hello all of you\"\n",
    "print(\"original string:\",a)\n",
    "print(\"after Capitalize:\",a.capitalize())"
   ]
  },
  {
   "cell_type": "code",
   "execution_count": 35,
   "id": "b1c19ec9",
   "metadata": {},
   "outputs": [
    {
     "name": "stdout",
     "output_type": "stream",
     "text": [
      "new string: Hello all\n",
      "old string: hello all\n"
     ]
    }
   ],
   "source": [
    "#capitalize method doesnot modify original string\n",
    "a=\"hello all\"\n",
    "b=a.capitalize()\n",
    "print(\"new string:\",b)\n",
    "print(\"old string:\",a)"
   ]
  },
  {
   "cell_type": "code",
   "execution_count": 36,
   "id": "dd703367",
   "metadata": {},
   "outputs": [
    {
     "name": "stdout",
     "output_type": "stream",
     "text": [
      "hello python\n"
     ]
    }
   ],
   "source": [
    "#casefold\n",
    "a=\"Hello Python\"\n",
    "print(a.casefold())"
   ]
  },
  {
   "cell_type": "code",
   "execution_count": 37,
   "id": "b74a9cbd",
   "metadata": {},
   "outputs": [
    {
     "name": "stdout",
     "output_type": "stream",
     "text": [
      "original string: Hello All Of You\n",
      "after Capitalize: hello all of you\n"
     ]
    }
   ],
   "source": [
    "#casefold first letter of string\n",
    "a=\"Hello All Of You\"\n",
    "print(\"original string:\",a)\n",
    "print(\"after Capitalize:\",a.casefold())"
   ]
  },
  {
   "cell_type": "code",
   "execution_count": 40,
   "id": "38d1fadf",
   "metadata": {},
   "outputs": [
    {
     "name": "stdout",
     "output_type": "stream",
     "text": [
      "hello   world\n"
     ]
    }
   ],
   "source": [
    "a=\"hello   world\"\n",
    "a=print(a.center(5))"
   ]
  },
  {
   "cell_type": "code",
   "execution_count": 41,
   "id": "1bb256db",
   "metadata": {},
   "outputs": [
    {
     "name": "stdout",
     "output_type": "stream",
     "text": [
      "********hello all********\n"
     ]
    }
   ],
   "source": [
    "a=\"hello all\"\n",
    "a=print(a.center(25,'*'))"
   ]
  },
  {
   "cell_type": "code",
   "execution_count": 42,
   "id": "5750a2ff",
   "metadata": {},
   "outputs": [
    {
     "name": "stdout",
     "output_type": "stream",
     "text": [
      "hello all of you\n"
     ]
    }
   ],
   "source": [
    "a=\"hello all of you\"\n",
    "a=print(a.center(12,'#'))"
   ]
  },
  {
   "cell_type": "code",
   "execution_count": 43,
   "id": "18a7269a",
   "metadata": {},
   "outputs": [
    {
     "name": "stdout",
     "output_type": "stream",
     "text": [
      "&&&&&&&hello&&&&&&&&\n"
     ]
    }
   ],
   "source": [
    "a=\"hello\"\n",
    "a=print(a.center(20,'&'))"
   ]
  },
  {
   "cell_type": "code",
   "execution_count": 45,
   "id": "5a7349d8",
   "metadata": {},
   "outputs": [
    {
     "name": "stdout",
     "output_type": "stream",
     "text": [
      "2\n"
     ]
    }
   ],
   "source": [
    "#count method\n",
    "a=\"hello python\"\n",
    "print(a.count('o'))"
   ]
  },
  {
   "cell_type": "code",
   "execution_count": 49,
   "id": "6e77ba94",
   "metadata": {},
   "outputs": [
    {
     "name": "stdout",
     "output_type": "stream",
     "text": [
      "1\n"
     ]
    }
   ],
   "source": [
    "a=\"all are genius\"\n",
    "print(a.count(\"are\"))"
   ]
  },
  {
   "cell_type": "code",
   "execution_count": 50,
   "id": "02d657b1",
   "metadata": {},
   "outputs": [
    {
     "name": "stdout",
     "output_type": "stream",
     "text": [
      "2\n"
     ]
    }
   ],
   "source": [
    "a=\"python is best\"\n",
    "print(a.count(\"s\"))"
   ]
  },
  {
   "cell_type": "code",
   "execution_count": 51,
   "id": "bdd07701",
   "metadata": {},
   "outputs": [
    {
     "name": "stdout",
     "output_type": "stream",
     "text": [
      "b'hello all'\n"
     ]
    }
   ],
   "source": [
    "a=\"hello all\"\n",
    "print(a.encode())"
   ]
  },
  {
   "cell_type": "code",
   "execution_count": 52,
   "id": "811d951a",
   "metadata": {},
   "outputs": [
    {
     "name": "stdout",
     "output_type": "stream",
     "text": [
      "b'xyz'\n"
     ]
    }
   ],
   "source": [
    "a=\"xyz\"\n",
    "print(a.encode('utf-8'))"
   ]
  },
  {
   "cell_type": "code",
   "execution_count": 53,
   "id": "c8bf6607",
   "metadata": {},
   "outputs": [
    {
     "name": "stdout",
     "output_type": "stream",
     "text": [
      "True\n"
     ]
    }
   ],
   "source": [
    "#endswith\n",
    "a=\"hello all\"\n",
    "print(a.endswith('ll'))"
   ]
  },
  {
   "cell_type": "code",
   "execution_count": 54,
   "id": "578b4438",
   "metadata": {},
   "outputs": [
    {
     "name": "stdout",
     "output_type": "stream",
     "text": [
      "False\n"
     ]
    }
   ],
   "source": [
    "a=\"how r you\"\n",
    "print(a.endswith('r'))"
   ]
  },
  {
   "cell_type": "code",
   "execution_count": 55,
   "id": "fe1f3907",
   "metadata": {},
   "outputs": [
    {
     "name": "stdout",
     "output_type": "stream",
     "text": [
      "False\n"
     ]
    }
   ],
   "source": [
    "a=\"hello all of you.\"\n",
    "print(a.endswith('of you'))"
   ]
  },
  {
   "cell_type": "code",
   "execution_count": 60,
   "id": "21adb78e",
   "metadata": {},
   "outputs": [
    {
     "name": "stdout",
     "output_type": "stream",
     "text": [
      "True\n"
     ]
    }
   ],
   "source": [
    "a=\"hello all of you.\"\n",
    "print(a.endswith('you.'))"
   ]
  },
  {
   "cell_type": "code",
   "execution_count": 61,
   "id": "0c767bd2",
   "metadata": {},
   "outputs": [
    {
     "name": "stdout",
     "output_type": "stream",
     "text": [
      "True\n"
     ]
    }
   ],
   "source": [
    "a=\"hello world.\"\n",
    "print(a.endswith('hello world.'))"
   ]
  },
  {
   "cell_type": "code",
   "execution_count": 62,
   "id": "57624d75",
   "metadata": {},
   "outputs": [
    {
     "name": "stdout",
     "output_type": "stream",
     "text": [
      "hello           world\n"
     ]
    }
   ],
   "source": [
    "#expand tabs\n",
    "a=\"hello\\t\\tworld\"\n",
    "print(a.expandtabs())"
   ]
  },
  {
   "cell_type": "code",
   "execution_count": 63,
   "id": "06a62bcc",
   "metadata": {},
   "outputs": [
    {
     "name": "stdout",
     "output_type": "stream",
     "text": [
      "modified string:hello   world   are\n"
     ]
    }
   ],
   "source": [
    "a=\"hello\\tworld\\tare\"\n",
    "print(\"modified string:\",end=\"\")\n",
    "print(a.expandtabs())"
   ]
  },
  {
   "cell_type": "code",
   "execution_count": 65,
   "id": "afc77b27",
   "metadata": {},
   "outputs": [
    {
     "name": "stdout",
     "output_type": "stream",
     "text": [
      "hello all\n"
     ]
    }
   ],
   "source": [
    "a=\"hello\\tall\"\n",
    "print(a.expandtabs(2))"
   ]
  },
  {
   "cell_type": "code",
   "execution_count": 66,
   "id": "2903494b",
   "metadata": {},
   "outputs": [
    {
     "name": "stdout",
     "output_type": "stream",
     "text": [
      "2\n"
     ]
    }
   ],
   "source": [
    "#find\n",
    "a=\"hello python\"\n",
    "print(a.reverse('l'))"
   ]
  },
  {
   "cell_type": "code",
   "execution_count": 131,
   "id": "3a765e75",
   "metadata": {},
   "outputs": [
    {
     "name": "stdout",
     "output_type": "stream",
     "text": [
      "olleh\n"
     ]
    }
   ],
   "source": [
    "a=\"hello\"\n",
    "b=a[::-1]\n",
    "print(b)\n",
    "\n"
   ]
  },
  {
   "cell_type": "code",
   "execution_count": null,
   "id": "9479ca3a",
   "metadata": {},
   "outputs": [],
   "source": [
    "table = \"Name\\t\\tAge\\tCity\\nJohn\\t\\t25\\tNew York\\nAlice\\t\\t30\\tLos Angeles\"\n",
    "txt=table.expandtabs(12)\n",
    "print(txt)"
   ]
  },
  {
   "cell_type": "code",
   "execution_count": 132,
   "id": "6547f339",
   "metadata": {},
   "outputs": [
    {
     "name": "stdout",
     "output_type": "stream",
     "text": [
      "hell\tworld\n"
     ]
    }
   ],
   "source": [
    "a=\"hell\\tworld\"\n",
    "print(a)"
   ]
  },
  {
   "cell_type": "code",
   "execution_count": 67,
   "id": "6f8c675b",
   "metadata": {},
   "outputs": [
    {
     "name": "stdout",
     "output_type": "stream",
     "text": [
      "-1\n"
     ]
    }
   ],
   "source": [
    "a=\"hello all\"\n",
    "print(a.find('x'))"
   ]
  },
  {
   "cell_type": "code",
   "execution_count": 69,
   "id": "156d9c33",
   "metadata": {},
   "outputs": [
    {
     "name": "stdout",
     "output_type": "stream",
     "text": [
      "10\n"
     ]
    }
   ],
   "source": [
    "a=\"hello how are you\"\n",
    "print(a.find('are'))"
   ]
  },
  {
   "cell_type": "code",
   "execution_count": 70,
   "id": "84945535",
   "metadata": {},
   "outputs": [
    {
     "name": "stdout",
     "output_type": "stream",
     "text": [
      "hello worldhy\n"
     ]
    }
   ],
   "source": [
    "#format method\n",
    "a=\"hello world{}\"\n",
    "print(a.format(\"hy\"))"
   ]
  },
  {
   "cell_type": "code",
   "execution_count": 72,
   "id": "72475064",
   "metadata": {},
   "outputs": [
    {
     "name": "stdout",
     "output_type": "stream",
     "text": [
      "hello your sona \n"
     ]
    }
   ],
   "source": [
    "a=\"hello your {name} \"\n",
    "print(a.format(name=\"sona\"))"
   ]
  },
  {
   "cell_type": "code",
   "execution_count": 73,
   "id": "3ac8211e",
   "metadata": {},
   "outputs": [
    {
     "name": "stdout",
     "output_type": "stream",
     "text": [
      "my name is xyz any my age is 30\n"
     ]
    }
   ],
   "source": [
    "age=30\n",
    "a=\"my name is xyz any my age is {}\"\n",
    "print(a.format(age))"
   ]
  },
  {
   "cell_type": "code",
   "execution_count": 76,
   "id": "e7b459d2",
   "metadata": {},
   "outputs": [
    {
     "ename": "SyntaxError",
     "evalue": "unterminated string literal (detected at line 3) (129104323.py, line 3)",
     "output_type": "error",
     "traceback": [
      "\u001b[1;36m  Cell \u001b[1;32mIn[76], line 3\u001b[1;36m\u001b[0m\n\u001b[1;33m    print(\"{x}'s product is {y}\".format_map(a)\")\u001b[0m\n\u001b[1;37m                                              ^\u001b[0m\n\u001b[1;31mSyntaxError\u001b[0m\u001b[1;31m:\u001b[0m unterminated string literal (detected at line 3)\n"
     ]
    }
   ],
   "source": [
    "#format map\n",
    "a={'x':'xyz', 'y':'order'}\n",
    "print(\"{x}'s product is {y}\".format_map(a)\")"
   ]
  },
  {
   "cell_type": "code",
   "execution_count": 77,
   "id": "72b13350",
   "metadata": {},
   "outputs": [
    {
     "name": "stdout",
     "output_type": "stream",
     "text": [
      "6\n"
     ]
    }
   ],
   "source": [
    "#index\n",
    "a=\"hello all\"\n",
    "print(a.index('a'))"
   ]
  },
  {
   "cell_type": "code",
   "execution_count": 78,
   "id": "f9f5cc2d",
   "metadata": {},
   "outputs": [
    {
     "name": "stdout",
     "output_type": "stream",
     "text": [
      "10\n"
     ]
    }
   ],
   "source": [
    "a=\"hello all of you\"\n",
    "print(a.index('of'))"
   ]
  },
  {
   "cell_type": "code",
   "execution_count": 79,
   "id": "d06eee95",
   "metadata": {},
   "outputs": [
    {
     "ename": "ValueError",
     "evalue": "substring not found",
     "output_type": "error",
     "traceback": [
      "\u001b[1;31m---------------------------------------------------------------------------\u001b[0m",
      "\u001b[1;31mValueError\u001b[0m                                Traceback (most recent call last)",
      "Cell \u001b[1;32mIn[79], line 2\u001b[0m\n\u001b[0;32m      1\u001b[0m a\u001b[38;5;241m=\u001b[39m\u001b[38;5;124m\"\u001b[39m\u001b[38;5;124mhello all\u001b[39m\u001b[38;5;124m\"\u001b[39m\n\u001b[1;32m----> 2\u001b[0m \u001b[38;5;28mprint\u001b[39m(\u001b[43ma\u001b[49m\u001b[38;5;241;43m.\u001b[39;49m\u001b[43mindex\u001b[49m\u001b[43m(\u001b[49m\u001b[38;5;124;43m'\u001b[39;49m\u001b[38;5;124;43ms\u001b[39;49m\u001b[38;5;124;43m'\u001b[39;49m\u001b[43m)\u001b[49m)\n",
      "\u001b[1;31mValueError\u001b[0m: substring not found"
     ]
    }
   ],
   "source": [
    "a=\"hello all\"\n",
    "print(a.index('s'))"
   ]
  },
  {
   "cell_type": "code",
   "execution_count": 82,
   "id": "f6b5546c",
   "metadata": {
    "scrolled": true
   },
   "outputs": [
    {
     "name": "stdout",
     "output_type": "stream",
     "text": [
      "8\n"
     ]
    }
   ],
   "source": [
    "a=\"hello all\"\n",
    "print(a.rindex('l'))"
   ]
  },
  {
   "cell_type": "code",
   "execution_count": 83,
   "id": "a94aa727",
   "metadata": {},
   "outputs": [
    {
     "name": "stdout",
     "output_type": "stream",
     "text": [
      "14\n"
     ]
    }
   ],
   "source": [
    "a=\"hello all of you\"\n",
    "print(a.rindex('o'))"
   ]
  },
  {
   "cell_type": "code",
   "execution_count": 84,
   "id": "cba886de",
   "metadata": {},
   "outputs": [
    {
     "name": "stdout",
     "output_type": "stream",
     "text": [
      "False\n"
     ]
    }
   ],
   "source": [
    "a=\"hello 123\"\n",
    "print(a.isalnum())"
   ]
  },
  {
   "cell_type": "code",
   "execution_count": 85,
   "id": "1e61edd1",
   "metadata": {},
   "outputs": [
    {
     "name": "stdout",
     "output_type": "stream",
     "text": [
      "True\n"
     ]
    }
   ],
   "source": [
    "a=\"hello1211\"\n",
    "print(a.isalnum())"
   ]
  },
  {
   "cell_type": "code",
   "execution_count": 86,
   "id": "c77c5fc7",
   "metadata": {},
   "outputs": [
    {
     "name": "stdout",
     "output_type": "stream",
     "text": [
      "False\n"
     ]
    }
   ],
   "source": [
    "a=\"hello12\"\n",
    "print(a.isalpha())"
   ]
  },
  {
   "cell_type": "code",
   "execution_count": 87,
   "id": "56528e7d",
   "metadata": {},
   "outputs": [
    {
     "name": "stdout",
     "output_type": "stream",
     "text": [
      "True\n"
     ]
    }
   ],
   "source": [
    "a=\"hello\"\n",
    "print(a.isalpha())"
   ]
  },
  {
   "cell_type": "code",
   "execution_count": 88,
   "id": "9ef43d79",
   "metadata": {},
   "outputs": [
    {
     "name": "stdout",
     "output_type": "stream",
     "text": [
      "True\n"
     ]
    }
   ],
   "source": [
    "a=\"hello\"\n",
    "print(a.isidentifier())"
   ]
  },
  {
   "cell_type": "code",
   "execution_count": 90,
   "id": "e4d54913",
   "metadata": {},
   "outputs": [
    {
     "name": "stdout",
     "output_type": "stream",
     "text": [
      "True\n"
     ]
    }
   ],
   "source": [
    "a=\"hello\"\n",
    "print(a.isprintable())"
   ]
  },
  {
   "cell_type": "code",
   "execution_count": 91,
   "id": "723e4c1c",
   "metadata": {},
   "outputs": [
    {
     "name": "stdout",
     "output_type": "stream",
     "text": [
      "False\n"
     ]
    }
   ],
   "source": [
    "a=\"hello all\"\n",
    "print(a.isspace())"
   ]
  },
  {
   "cell_type": "code",
   "execution_count": 92,
   "id": "e8b80a3b",
   "metadata": {},
   "outputs": [
    {
     "name": "stdout",
     "output_type": "stream",
     "text": [
      "True\n"
     ]
    }
   ],
   "source": [
    "a=\"Hello All\"\n",
    "print(a.istitle())"
   ]
  },
  {
   "cell_type": "code",
   "execution_count": 93,
   "id": "732a5113",
   "metadata": {},
   "outputs": [
    {
     "name": "stdout",
     "output_type": "stream",
     "text": [
      "True\n"
     ]
    }
   ],
   "source": [
    "a=\"hello\"\n",
    "print(a.islower())"
   ]
  },
  {
   "cell_type": "code",
   "execution_count": 94,
   "id": "f72f6cd5",
   "metadata": {},
   "outputs": [
    {
     "name": "stdout",
     "output_type": "stream",
     "text": [
      "HELLO ALL\n"
     ]
    }
   ],
   "source": [
    "a=\"Hello All\"\n",
    "print(a.upper())"
   ]
  },
  {
   "cell_type": "code",
   "execution_count": 95,
   "id": "46efa13b",
   "metadata": {},
   "outputs": [
    {
     "name": "stdout",
     "output_type": "stream",
     "text": [
      "False\n"
     ]
    }
   ],
   "source": [
    "a=\"Hello All\"\n",
    "print(a.isupper())"
   ]
  },
  {
   "cell_type": "code",
   "execution_count": 96,
   "id": "e5b0dd01",
   "metadata": {},
   "outputs": [
    {
     "name": "stdout",
     "output_type": "stream",
     "text": [
      "xyzhelloyhdhellohello\n"
     ]
    }
   ],
   "source": [
    "#join\n",
    "a=['xyz','yhd','','']\n",
    "b=\"hello\"\n",
    "print(b.join(a))"
   ]
  },
  {
   "cell_type": "code",
   "execution_count": 101,
   "id": "b8676dd1",
   "metadata": {},
   "outputs": [
    {
     "name": "stdout",
     "output_type": "stream",
     "text": [
      "hello allhow are youxyz\n"
     ]
    }
   ],
   "source": [
    "a=['hello all','xyz']\n",
    "b=\"how are you\"\n",
    "print(b.join(a))"
   ]
  },
  {
   "cell_type": "code",
   "execution_count": 104,
   "id": "29896160",
   "metadata": {},
   "outputs": [
    {
     "name": "stdout",
     "output_type": "stream",
     "text": [
      "hello world\n"
     ]
    }
   ],
   "source": [
    "a=\"hello world\"\n",
    "print(a.ljust(5))\n"
   ]
  },
  {
   "cell_type": "code",
   "execution_count": 105,
   "id": "83f7a549",
   "metadata": {},
   "outputs": [
    {
     "name": "stdout",
     "output_type": "stream",
     "text": [
      " hello all \n"
     ]
    }
   ],
   "source": [
    "a= \" hello all \"\n",
    "print(a.rjust(10))"
   ]
  },
  {
   "cell_type": "code",
   "execution_count": 106,
   "id": "ae9dce61",
   "metadata": {},
   "outputs": [
    {
     "name": "stdout",
     "output_type": "stream",
     "text": [
      "hello\n"
     ]
    }
   ],
   "source": [
    "a=\"    hello   \"\n",
    "print(a.strip())"
   ]
  },
  {
   "cell_type": "code",
   "execution_count": 108,
   "id": "f347828b",
   "metadata": {},
   "outputs": [
    {
     "name": "stdout",
     "output_type": "stream",
     "text": [
      "hello all  \n"
     ]
    }
   ],
   "source": [
    "a=\"  hello all  \"\n",
    "print(a.lstrip())"
   ]
  },
  {
   "cell_type": "code",
   "execution_count": 109,
   "id": "81ae52c1",
   "metadata": {},
   "outputs": [
    {
     "name": "stdout",
     "output_type": "stream",
     "text": [
      "    hello all\n"
     ]
    }
   ],
   "source": [
    "a=\"    hello all   \"\n",
    "print(a.rstrip())"
   ]
  },
  {
   "cell_type": "code",
   "execution_count": 110,
   "id": "a9bd790b",
   "metadata": {},
   "outputs": [
    {
     "name": "stdout",
     "output_type": "stream",
     "text": [
      "('how are you,', 'we', ' all are fine')\n"
     ]
    }
   ],
   "source": [
    "#partition\n",
    "a=\"hello all\"\n",
    "b=\"how are you,we all are fine\"\n",
    "print(b.partition('we'))"
   ]
  },
  {
   "cell_type": "code",
   "execution_count": 111,
   "id": "5b77981d",
   "metadata": {},
   "outputs": [
    {
     "name": "stdout",
     "output_type": "stream",
     "text": [
      "('how are you,', 'we', ' all are fine')\n"
     ]
    }
   ],
   "source": [
    "a=\"hello all\"\n",
    "b=\"how are you,we all are fine\"\n",
    "print(b.rpartition('we'))"
   ]
  },
  {
   "cell_type": "code",
   "execution_count": 112,
   "id": "27cb2015",
   "metadata": {},
   "outputs": [
    {
     "name": "stdout",
     "output_type": "stream",
     "text": [
      "['hello all ', ' genius']\n"
     ]
    }
   ],
   "source": [
    "a=\"hello all are genius\"\n",
    "print(a.split('are'))\n"
   ]
  },
  {
   "cell_type": "code",
   "execution_count": 113,
   "id": "569cb468",
   "metadata": {},
   "outputs": [
    {
     "name": "stdout",
     "output_type": "stream",
     "text": [
      "['hell all ', ' you']\n"
     ]
    }
   ],
   "source": [
    "a=\"hell all of you\"\n",
    "print(a.rsplit('of'))"
   ]
  },
  {
   "cell_type": "code",
   "execution_count": 117,
   "id": "ef178447",
   "metadata": {},
   "outputs": [
    {
     "name": "stdout",
     "output_type": "stream",
     "text": [
      "True\n",
      "hello all\n"
     ]
    }
   ],
   "source": [
    "s=\"hello all\"\n",
    "print(s.startswith(\"hello\"))\n",
    "print(s)"
   ]
  },
  {
   "cell_type": "code",
   "execution_count": 118,
   "id": "5c5c15b8",
   "metadata": {},
   "outputs": [
    {
     "name": "stdout",
     "output_type": "stream",
     "text": [
      "False\n"
     ]
    }
   ],
   "source": [
    "s=\"hello all\"\n",
    "print(s.startswith('we'))"
   ]
  },
  {
   "cell_type": "code",
   "execution_count": 119,
   "id": "6f1041ff",
   "metadata": {},
   "outputs": [
    {
     "name": "stdout",
     "output_type": "stream",
     "text": [
      "True\n"
     ]
    }
   ],
   "source": [
    "a=\"hy hello\"\n",
    "print(a.startswith('h'))"
   ]
  },
  {
   "cell_type": "code",
   "execution_count": 121,
   "id": "c9d4d2c6",
   "metadata": {},
   "outputs": [
    {
     "name": "stdout",
     "output_type": "stream",
     "text": [
      "HELLO ALL\n"
     ]
    }
   ],
   "source": [
    "a=\"hello all\"\n",
    "print(a.swapcase())"
   ]
  },
  {
   "cell_type": "code",
   "execution_count": 122,
   "id": "e64d5257",
   "metadata": {},
   "outputs": [
    {
     "name": "stdout",
     "output_type": "stream",
     "text": [
      "Hello\n"
     ]
    }
   ],
   "source": [
    "a=\"hello\"\n",
    "print(a.title())"
   ]
  },
  {
   "cell_type": "code",
   "execution_count": 123,
   "id": "66d4bd1f",
   "metadata": {},
   "outputs": [
    {
     "name": "stdout",
     "output_type": "stream",
     "text": [
      "{97: 120, 108: 122}\n"
     ]
    }
   ],
   "source": [
    "a=\"hello all\"\n",
    "print(a.maketrans(\"all\",\"xyz\"))"
   ]
  },
  {
   "cell_type": "code",
   "execution_count": 124,
   "id": "28edabf1",
   "metadata": {},
   "outputs": [
    {
     "name": "stdout",
     "output_type": "stream",
     "text": [
      "hello all\n"
     ]
    }
   ],
   "source": [
    "a=\"hello all\"\n",
    "b=a.maketrans(\"all\",\"xyz\")\n",
    "print(a)"
   ]
  },
  {
   "cell_type": "code",
   "execution_count": null,
   "id": "4a55efea",
   "metadata": {},
   "outputs": [],
   "source": []
  }
 ],
 "metadata": {
  "kernelspec": {
   "display_name": "Python 3 (ipykernel)",
   "language": "python",
   "name": "python3"
  },
  "language_info": {
   "codemirror_mode": {
    "name": "ipython",
    "version": 3
   },
   "file_extension": ".py",
   "mimetype": "text/x-python",
   "name": "python",
   "nbconvert_exporter": "python",
   "pygments_lexer": "ipython3",
   "version": "3.10.9"
  }
 },
 "nbformat": 4,
 "nbformat_minor": 5
}
