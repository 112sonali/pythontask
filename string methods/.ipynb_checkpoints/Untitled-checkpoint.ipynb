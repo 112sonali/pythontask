{
 "cells": [
  {
   "cell_type": "code",
   "execution_count": 1,
   "id": "99c6b121",
   "metadata": {},
   "outputs": [
    {
     "name": "stdout",
     "output_type": "stream",
     "text": [
      "si\n"
     ]
    }
   ],
   "source": [
    "a=\"sonali\"\n",
    "b=a[::5]\n",
    "print(b)"
   ]
  },
  {
   "cell_type": "code",
   "execution_count": 2,
   "id": "82635e79",
   "metadata": {},
   "outputs": [
    {
     "name": "stdout",
     "output_type": "stream",
     "text": [
      "Hello world\n"
     ]
    }
   ],
   "source": [
    "a=\"hello world\"\n",
    "b=a.capitalize()\n",
    "print(b)"
   ]
  },
  {
   "cell_type": "code",
   "execution_count": 15,
   "id": "bdfac0ea",
   "metadata": {},
   "outputs": [
    {
     "name": "stdout",
     "output_type": "stream",
     "text": [
      "hello world\n"
     ]
    }
   ],
   "source": [
    "a=\"Hello World\"\n",
    "b=a.casefold()\n",
    "print(b)"
   ]
  },
  {
   "cell_type": "code",
   "execution_count": 16,
   "id": "8bc5ce27",
   "metadata": {},
   "outputs": [
    {
     "name": "stdout",
     "output_type": "stream",
     "text": [
      "**hello world**\n"
     ]
    }
   ],
   "source": [
    "a=\"hello world\"\n",
    "a=a.center(15,'*')\n",
    "print(a)"
   ]
  },
  {
   "cell_type": "code",
   "execution_count": 1,
   "id": "88cb8f33",
   "metadata": {},
   "outputs": [
    {
     "name": "stdout",
     "output_type": "stream",
     "text": [
      "hello\n"
     ]
    }
   ],
   "source": [
    "a=\"hello\"\n",
    "print(a)#assign string to a variable"
   ]
  },
  {
   "cell_type": "code",
   "execution_count": 2,
   "id": "ab09d8f7",
   "metadata": {},
   "outputs": [
    {
     "name": "stdout",
     "output_type": "stream",
     "text": [
      "hello\n",
      "    hy\n",
      "    how are you\n"
     ]
    }
   ],
   "source": [
    "a=\"\"\"hello\n",
    "    hy\n",
    "    how are you\"\"\"\n",
    "print(a)#multiline string"
   ]
  },
  {
   "cell_type": "code",
   "execution_count": 3,
   "id": "3e148843",
   "metadata": {},
   "outputs": [
    {
     "name": "stdout",
     "output_type": "stream",
     "text": [
      "e\n"
     ]
    }
   ],
   "source": [
    "a=\"hello python\"\n",
    "print(a[1])#string are arrays"
   ]
  },
  {
   "cell_type": "code",
   "execution_count": 4,
   "id": "2d983333",
   "metadata": {},
   "outputs": [
    {
     "name": "stdout",
     "output_type": "stream",
     "text": [
      "12\n"
     ]
    }
   ],
   "source": [
    "a=\"hello python\"\n",
    "print(len(a))#get the length of string\n"
   ]
  },
  {
   "cell_type": "code",
   "execution_count": 5,
   "id": "c605fef7",
   "metadata": {},
   "outputs": [
    {
     "name": "stdout",
     "output_type": "stream",
     "text": [
      "True\n"
     ]
    }
   ],
   "source": [
    "txt=\"hello how are you\"\n",
    "print(\"are\" in txt)#check character is present in string"
   ]
  },
  {
   "cell_type": "code",
   "execution_count": 7,
   "id": "b4a8b02d",
   "metadata": {},
   "outputs": [
    {
     "name": "stdout",
     "output_type": "stream",
     "text": [
      "yes,'are'is present.\n"
     ]
    }
   ],
   "source": [
    "txt=\"hello how are you\"\n",
    "if \"are\" in txt:#use if statement\n",
    "    print(\"yes,'are'is present.\")\n",
    "    "
   ]
  },
  {
   "cell_type": "code",
   "execution_count": 8,
   "id": "37193e54",
   "metadata": {},
   "outputs": [
    {
     "name": "stdout",
     "output_type": "stream",
     "text": [
      "False\n"
     ]
    }
   ],
   "source": [
    "txt=\"hello what about your study\"\n",
    "print(\"about\" not in txt)#check if not"
   ]
  },
  {
   "cell_type": "code",
   "execution_count": 11,
   "id": "541e048c",
   "metadata": {},
   "outputs": [],
   "source": [
    "txt=\"hello what are you doing\"\n",
    "if \"are\" not in txt:#use in an if statement\n",
    "    print(\"No,'expensive' is Not present\")"
   ]
  },
  {
   "cell_type": "code",
   "execution_count": 13,
   "id": "7d7abfee",
   "metadata": {},
   "outputs": [
    {
     "name": "stdout",
     "output_type": "stream",
     "text": [
      "llo\n"
     ]
    }
   ],
   "source": [
    "#slicing\n",
    "a=\"hello python.\"\n",
    "print(a[2:5])"
   ]
  },
  {
   "cell_type": "code",
   "execution_count": 14,
   "id": "9fdffcb7",
   "metadata": {},
   "outputs": [
    {
     "name": "stdout",
     "output_type": "stream",
     "text": [
      "hello\n"
     ]
    }
   ],
   "source": [
    "#slicing from start\n",
    "a=\"hello how r you\"\n",
    "print(a[:5])"
   ]
  },
  {
   "cell_type": "code",
   "execution_count": 15,
   "id": "746579c5",
   "metadata": {},
   "outputs": [
    {
     "name": "stdout",
     "output_type": "stream",
     "text": [
      "ello python\n"
     ]
    }
   ],
   "source": [
    "#slice to the end\n",
    "a=\"hello python\"\n",
    "print(a[1:])"
   ]
  },
  {
   "cell_type": "code",
   "execution_count": 16,
   "id": "971611ee",
   "metadata": {},
   "outputs": [
    {
     "name": "stdout",
     "output_type": "stream",
     "text": [
      "wor\n"
     ]
    }
   ],
   "source": [
    "#Negative indexing(start slice from end of index)\n",
    "a=\"hello world\"\n",
    "print(a[-5:-2])\n"
   ]
  },
  {
   "cell_type": "code",
   "execution_count": 17,
   "id": "e1fc51f7",
   "metadata": {},
   "outputs": [
    {
     "name": "stdout",
     "output_type": "stream",
     "text": [
      "HELLO PYTHON\n"
     ]
    }
   ],
   "source": [
    "#uppercase\n",
    "a=\"hello python\"\n",
    "print(a.upper())"
   ]
  },
  {
   "cell_type": "code",
   "execution_count": 18,
   "id": "9345b5c6",
   "metadata": {},
   "outputs": [
    {
     "name": "stdout",
     "output_type": "stream",
     "text": [
      "hello python\n"
     ]
    }
   ],
   "source": [
    "#lower case\n",
    "a=\"HELLO PYTHON\"\n",
    "print(a.lower())"
   ]
  },
  {
   "cell_type": "code",
   "execution_count": 19,
   "id": "5da6f993",
   "metadata": {},
   "outputs": [
    {
     "name": "stdout",
     "output_type": "stream",
     "text": [
      "hello python\n"
     ]
    }
   ],
   "source": [
    "#remove whitespaces\n",
    "a=\"   hello python   \"\n",
    "print(a.strip())"
   ]
  },
  {
   "cell_type": "code",
   "execution_count": 20,
   "id": "dee1320f",
   "metadata": {},
   "outputs": [
    {
     "name": "stdout",
     "output_type": "stream",
     "text": [
      "jello pytjon\n"
     ]
    }
   ],
   "source": [
    "#replace string\n",
    "a=\"hello python\"\n",
    "print(a.replace(\"h\",\"j\"))"
   ]
  },
  {
   "cell_type": "code",
   "execution_count": 22,
   "id": "345646e6",
   "metadata": {},
   "outputs": [
    {
     "name": "stdout",
     "output_type": "stream",
     "text": [
      "['hello', ' python']\n"
     ]
    }
   ],
   "source": [
    "#split string\n",
    "a=\"hello. python\"\n",
    "print(a.split(\".\"))"
   ]
  },
  {
   "cell_type": "code",
   "execution_count": 23,
   "id": "30764c69",
   "metadata": {},
   "outputs": [
    {
     "name": "stdout",
     "output_type": "stream",
     "text": [
      "hellopython\n"
     ]
    }
   ],
   "source": [
    "#concatenate string\n",
    "a=\"hello\"\n",
    "b=\"python\"\n",
    "c=a+b\n",
    "print(c)"
   ]
  },
  {
   "cell_type": "code",
   "execution_count": 25,
   "id": "ea37324c",
   "metadata": {},
   "outputs": [
    {
     "name": "stdout",
     "output_type": "stream",
     "text": [
      "hello python\n"
     ]
    }
   ],
   "source": [
    "a=\"hello\"\n",
    "b=\"python\"\n",
    "c=a+\" \"+b\n",
    "print(c)"
   ]
  },
  {
   "cell_type": "code",
   "execution_count": 26,
   "id": "bc5b1194",
   "metadata": {},
   "outputs": [
    {
     "name": "stdout",
     "output_type": "stream",
     "text": [
      "my name is xyz,and i am 30\n"
     ]
    }
   ],
   "source": [
    "#string format(combine string and number using format)\n",
    "age=30\n",
    "txt=\"my name is xyz,and i am {}\"\n",
    "print(txt.format(age))"
   ]
  },
  {
   "cell_type": "code",
   "execution_count": 27,
   "id": "f116d169",
   "metadata": {},
   "outputs": [
    {
     "name": "stdout",
     "output_type": "stream",
     "text": [
      "i want4 pieces of item 1211 for 987 rupees.\n"
     ]
    }
   ],
   "source": [
    "#unlimited number arguments\n",
    "qty=4\n",
    "item=1211\n",
    "price=987\n",
    "txt=\"i want{} pieces of item {} for {} rupees.\"\n",
    "print(txt.format(qty,item,price))"
   ]
  },
  {
   "cell_type": "code",
   "execution_count": 28,
   "id": "dfea3c0d",
   "metadata": {},
   "outputs": [
    {
     "name": "stdout",
     "output_type": "stream",
     "text": [
      "i want 1121 item of 809 price for 4 qty.\n"
     ]
    }
   ],
   "source": [
    "#use index in format method\n",
    "qty=4\n",
    "item=1121\n",
    "price=809\n",
    "txt=\"i want {1} item of {2} price for {0} qty.\"\n",
    "print(txt.format(qty,item,price))"
   ]
  },
  {
   "cell_type": "code",
   "execution_count": 31,
   "id": "9140b2a1",
   "metadata": {},
   "outputs": [],
   "source": [
    "#escape character(is a backslash \\ followed by character you want to store)\n",
    "txt=\"we are indians \\\"tiranga\\\"is our national flag.\"\n",
    "\n"
   ]
  },
  {
   "cell_type": "code",
   "execution_count": 32,
   "id": "fd1bed6d",
   "metadata": {},
   "outputs": [
    {
     "name": "stdout",
     "output_type": "stream",
     "text": [
      "Hello all\n"
     ]
    }
   ],
   "source": [
    "#capitalize method\n",
    "a=\"hello all\"\n",
    "print(a.capitalize())"
   ]
  },
  {
   "cell_type": "code",
   "execution_count": 34,
   "id": "78630d91",
   "metadata": {},
   "outputs": [
    {
     "name": "stdout",
     "output_type": "stream",
     "text": [
      "original string: hello all of you\n",
      "after Capitalize: Hello all of you\n"
     ]
    }
   ],
   "source": [
    "#capitalize first letter of string\n",
    "a=\"hello all of you\"\n",
    "print(\"original string:\",a)\n",
    "print(\"after Capitalize:\",a.capitalize())"
   ]
  },
  {
   "cell_type": "code",
   "execution_count": 35,
   "id": "ad25271f",
   "metadata": {},
   "outputs": [
    {
     "name": "stdout",
     "output_type": "stream",
     "text": [
      "new string: Hello all\n",
      "old string: hello all\n"
     ]
    }
   ],
   "source": [
    "#capitalize method doesnot modify original string\n",
    "a=\"hello all\"\n",
    "b=a.capitalize()\n",
    "print(\"new string:\",b)\n",
    "print(\"old string:\",a)"
   ]
  },
  {
   "cell_type": "code",
   "execution_count": 36,
   "id": "b01adf87",
   "metadata": {},
   "outputs": [
    {
     "name": "stdout",
     "output_type": "stream",
     "text": [
      "hello python\n"
     ]
    }
   ],
   "source": [
    "#casefold\n",
    "a=\"Hello Python\"\n",
    "print(a.casefold())"
   ]
  },
  {
   "cell_type": "code",
   "execution_count": 37,
   "id": "227b7278",
   "metadata": {},
   "outputs": [
    {
     "name": "stdout",
     "output_type": "stream",
     "text": [
      "original string: Hello All Of You\n",
      "after Capitalize: hello all of you\n"
     ]
    }
   ],
   "source": [
    "#casefold first letter of string\n",
    "a=\"Hello All Of You\"\n",
    "print(\"original string:\",a)\n",
    "print(\"after Capitalize:\",a.casefold())"
   ]
  },
  {
   "cell_type": "code",
   "execution_count": 40,
   "id": "65b3f25a",
   "metadata": {},
   "outputs": [
    {
     "name": "stdout",
     "output_type": "stream",
     "text": [
      "hello   world\n"
     ]
    }
   ],
   "source": [
    "a=\"hello   world\"\n",
    "a=print(a.center(5))"
   ]
  },
  {
   "cell_type": "code",
   "execution_count": 41,
   "id": "a774bddf",
   "metadata": {},
   "outputs": [
    {
     "name": "stdout",
     "output_type": "stream",
     "text": [
      "********hello all********\n"
     ]
    }
   ],
   "source": [
    "a=\"hello all\"\n",
    "a=print(a.center(25,'*'))"
   ]
  },
  {
   "cell_type": "code",
   "execution_count": 42,
   "id": "20880a4e",
   "metadata": {},
   "outputs": [
    {
     "name": "stdout",
     "output_type": "stream",
     "text": [
      "hello all of you\n"
     ]
    }
   ],
   "source": [
    "a=\"hello all of you\"\n",
    "a=print(a.center(12,'#'))"
   ]
  },
  {
   "cell_type": "code",
   "execution_count": 43,
   "id": "3af2f50d",
   "metadata": {},
   "outputs": [
    {
     "name": "stdout",
     "output_type": "stream",
     "text": [
      "&&&&&&&hello&&&&&&&&\n"
     ]
    }
   ],
   "source": [
    "a=\"hello\"\n",
    "a=print(a.center(20,'&'))"
   ]
  },
  {
   "cell_type": "code",
   "execution_count": 45,
   "id": "fe3a0f00",
   "metadata": {},
   "outputs": [
    {
     "name": "stdout",
     "output_type": "stream",
     "text": [
      "2\n"
     ]
    }
   ],
   "source": [
    "#count method\n",
    "a=\"hello python\"\n",
    "print(a.count('o'))"
   ]
  },
  {
   "cell_type": "code",
   "execution_count": 49,
   "id": "cee7f13b",
   "metadata": {},
   "outputs": [
    {
     "name": "stdout",
     "output_type": "stream",
     "text": [
      "1\n"
     ]
    }
   ],
   "source": [
    "a=\"all are genius\"\n",
    "print(a.count(\"are\"))"
   ]
  },
  {
   "cell_type": "code",
   "execution_count": 50,
   "id": "803cc7d2",
   "metadata": {},
   "outputs": [
    {
     "name": "stdout",
     "output_type": "stream",
     "text": [
      "2\n"
     ]
    }
   ],
   "source": [
    "a=\"python is best\"\n",
    "print(a.count(\"s\"))"
   ]
  },
  {
   "cell_type": "code",
   "execution_count": 51,
   "id": "51fc2c36",
   "metadata": {},
   "outputs": [
    {
     "name": "stdout",
     "output_type": "stream",
     "text": [
      "b'hello all'\n"
     ]
    }
   ],
   "source": [
    "a=\"hello all\"\n",
    "print(a.encode())"
   ]
  },
  {
   "cell_type": "code",
   "execution_count": 52,
   "id": "b7caf08c",
   "metadata": {},
   "outputs": [
    {
     "name": "stdout",
     "output_type": "stream",
     "text": [
      "b'xyz'\n"
     ]
    }
   ],
   "source": [
    "a=\"xyz\"\n",
    "print(a.encode('utf-8'))"
   ]
  },
  {
   "cell_type": "code",
   "execution_count": 53,
   "id": "1983d5f4",
   "metadata": {},
   "outputs": [
    {
     "name": "stdout",
     "output_type": "stream",
     "text": [
      "True\n"
     ]
    }
   ],
   "source": [
    "#endswith\n",
    "a=\"hello all\"\n",
    "print(a.endswith('ll'))"
   ]
  },
  {
   "cell_type": "code",
   "execution_count": 54,
   "id": "9ecb5594",
   "metadata": {},
   "outputs": [
    {
     "name": "stdout",
     "output_type": "stream",
     "text": [
      "False\n"
     ]
    }
   ],
   "source": [
    "a=\"how r you\"\n",
    "print(a.endswith('r'))"
   ]
  },
  {
   "cell_type": "code",
   "execution_count": 55,
   "id": "7f5c5773",
   "metadata": {},
   "outputs": [
    {
     "name": "stdout",
     "output_type": "stream",
     "text": [
      "False\n"
     ]
    }
   ],
   "source": [
    "a=\"hello all of you.\"\n",
    "print(a.endswith('of you'))"
   ]
  },
  {
   "cell_type": "code",
   "execution_count": 60,
   "id": "a45fa95d",
   "metadata": {},
   "outputs": [
    {
     "name": "stdout",
     "output_type": "stream",
     "text": [
      "True\n"
     ]
    }
   ],
   "source": [
    "a=\"hello all of you.\"\n",
    "print(a.endswith('you.'))"
   ]
  },
  {
   "cell_type": "code",
   "execution_count": 61,
   "id": "fc35ef7b",
   "metadata": {},
   "outputs": [
    {
     "name": "stdout",
     "output_type": "stream",
     "text": [
      "True\n"
     ]
    }
   ],
   "source": [
    "a=\"hello world.\"\n",
    "print(a.endswith('hello world.'))"
   ]
  },
  {
   "cell_type": "code",
   "execution_count": 62,
   "id": "e567b2ff",
   "metadata": {},
   "outputs": [
    {
     "name": "stdout",
     "output_type": "stream",
     "text": [
      "hello           world\n"
     ]
    }
   ],
   "source": [
    "#expand tabs\n",
    "a=\"hello\\t\\tworld\"\n",
    "print(a.expandtabs())"
   ]
  },
  {
   "cell_type": "code",
   "execution_count": 63,
   "id": "2a93e13d",
   "metadata": {},
   "outputs": [
    {
     "name": "stdout",
     "output_type": "stream",
     "text": [
      "modified string:hello   world   are\n"
     ]
    }
   ],
   "source": [
    "a=\"hello\\tworld\\tare\"\n",
    "print(\"modified string:\",end=\"\")\n",
    "print(a.expandtabs())"
   ]
  },
  {
   "cell_type": "code",
   "execution_count": 65,
   "id": "371f36ff",
   "metadata": {},
   "outputs": [
    {
     "name": "stdout",
     "output_type": "stream",
     "text": [
      "hello all\n"
     ]
    }
   ],
   "source": [
    "a=\"hello\\tall\"\n",
    "print(a.expandtabs(2))"
   ]
  },
  {
   "cell_type": "code",
   "execution_count": 66,
   "id": "b7569d16",
   "metadata": {},
   "outputs": [
    {
     "name": "stdout",
     "output_type": "stream",
     "text": [
      "2\n"
     ]
    }
   ],
   "source": [
    "#find\n",
    "a=\"hello python\"\n",
    "print(a.find('l'))"
   ]
  },
  {
   "cell_type": "code",
   "execution_count": 67,
   "id": "80cd2a0a",
   "metadata": {},
   "outputs": [
    {
     "name": "stdout",
     "output_type": "stream",
     "text": [
      "-1\n"
     ]
    }
   ],
   "source": [
    "a=\"hello all\"\n",
    "print(a.find('x'))"
   ]
  },
  {
   "cell_type": "code",
   "execution_count": 69,
   "id": "c08541cc",
   "metadata": {},
   "outputs": [
    {
     "name": "stdout",
     "output_type": "stream",
     "text": [
      "10\n"
     ]
    }
   ],
   "source": [
    "a=\"hello how are you\"\n",
    "print(a.find('are'))"
   ]
  },
  {
   "cell_type": "code",
   "execution_count": 70,
   "id": "33d59dd1",
   "metadata": {},
   "outputs": [
    {
     "name": "stdout",
     "output_type": "stream",
     "text": [
      "hello worldhy\n"
     ]
    }
   ],
   "source": [
    "#format method\n",
    "a=\"hello world{}\"\n",
    "print(a.format(\"hy\"))"
   ]
  },
  {
   "cell_type": "code",
   "execution_count": 72,
   "id": "cdd6b103",
   "metadata": {},
   "outputs": [
    {
     "name": "stdout",
     "output_type": "stream",
     "text": [
      "hello your sona \n"
     ]
    }
   ],
   "source": [
    "a=\"hello your {name} \"\n",
    "print(a.format(name=\"sona\"))"
   ]
  },
  {
   "cell_type": "code",
   "execution_count": 73,
   "id": "dff4dffc",
   "metadata": {},
   "outputs": [
    {
     "name": "stdout",
     "output_type": "stream",
     "text": [
      "my name is xyz any my age is 30\n"
     ]
    }
   ],
   "source": [
    "age=30\n",
    "a=\"my name is xyz any my age is {}\"\n",
    "print(a.format(age))"
   ]
  },
  {
   "cell_type": "code",
   "execution_count": 76,
   "id": "1ca6870f",
   "metadata": {},
   "outputs": [
    {
     "ename": "SyntaxError",
     "evalue": "unterminated string literal (detected at line 3) (129104323.py, line 3)",
     "output_type": "error",
     "traceback": [
      "\u001b[1;36m  Cell \u001b[1;32mIn[76], line 3\u001b[1;36m\u001b[0m\n\u001b[1;33m    print(\"{x}'s product is {y}\".format_map(a)\")\u001b[0m\n\u001b[1;37m                                              ^\u001b[0m\n\u001b[1;31mSyntaxError\u001b[0m\u001b[1;31m:\u001b[0m unterminated string literal (detected at line 3)\n"
     ]
    }
   ],
   "source": [
    "#format map\n",
    "a={'x':'xyz', 'y':'order'}\n",
    "print(\"{x}'s product is {y}\".format_map(a)\")"
   ]
  },
  {
   "cell_type": "code",
   "execution_count": 77,
   "id": "b0eb56b2",
   "metadata": {},
   "outputs": [
    {
     "name": "stdout",
     "output_type": "stream",
     "text": [
      "6\n"
     ]
    }
   ],
   "source": [
    "#index\n",
    "a=\"hello all\"\n",
    "print(a.index('a'))"
   ]
  },
  {
   "cell_type": "code",
   "execution_count": 78,
   "id": "a274d4c7",
   "metadata": {},
   "outputs": [
    {
     "name": "stdout",
     "output_type": "stream",
     "text": [
      "10\n"
     ]
    }
   ],
   "source": [
    "a=\"hello all of you\"\n",
    "print(a.index('of'))"
   ]
  },
  {
   "cell_type": "code",
   "execution_count": 79,
   "id": "a92f0980",
   "metadata": {},
   "outputs": [
    {
     "ename": "ValueError",
     "evalue": "substring not found",
     "output_type": "error",
     "traceback": [
      "\u001b[1;31m---------------------------------------------------------------------------\u001b[0m",
      "\u001b[1;31mValueError\u001b[0m                                Traceback (most recent call last)",
      "Cell \u001b[1;32mIn[79], line 2\u001b[0m\n\u001b[0;32m      1\u001b[0m a\u001b[38;5;241m=\u001b[39m\u001b[38;5;124m\"\u001b[39m\u001b[38;5;124mhello all\u001b[39m\u001b[38;5;124m\"\u001b[39m\n\u001b[1;32m----> 2\u001b[0m \u001b[38;5;28mprint\u001b[39m(\u001b[43ma\u001b[49m\u001b[38;5;241;43m.\u001b[39;49m\u001b[43mindex\u001b[49m\u001b[43m(\u001b[49m\u001b[38;5;124;43m'\u001b[39;49m\u001b[38;5;124;43ms\u001b[39;49m\u001b[38;5;124;43m'\u001b[39;49m\u001b[43m)\u001b[49m)\n",
      "\u001b[1;31mValueError\u001b[0m: substring not found"
     ]
    }
   ],
   "source": [
    "a=\"hello all\"\n",
    "print(a.index('s'))"
   ]
  },
  {
   "cell_type": "code",
   "execution_count": 82,
   "id": "c516279c",
   "metadata": {
    "scrolled": true
   },
   "outputs": [
    {
     "name": "stdout",
     "output_type": "stream",
     "text": [
      "8\n"
     ]
    }
   ],
   "source": [
    "a=\"hello all\"\n",
    "print(a.rindex('l'))"
   ]
  },
  {
   "cell_type": "code",
   "execution_count": 83,
   "id": "6c4d41dd",
   "metadata": {},
   "outputs": [
    {
     "name": "stdout",
     "output_type": "stream",
     "text": [
      "14\n"
     ]
    }
   ],
   "source": [
    "a=\"hello all of you\"\n",
    "print(a.rindex('o'))"
   ]
  },
  {
   "cell_type": "code",
   "execution_count": 84,
   "id": "0dbdcbf8",
   "metadata": {},
   "outputs": [
    {
     "name": "stdout",
     "output_type": "stream",
     "text": [
      "False\n"
     ]
    }
   ],
   "source": [
    "a=\"hello 123\"\n",
    "print(a.isalnum())"
   ]
  },
  {
   "cell_type": "code",
   "execution_count": 85,
   "id": "6282c6b9",
   "metadata": {},
   "outputs": [
    {
     "name": "stdout",
     "output_type": "stream",
     "text": [
      "True\n"
     ]
    }
   ],
   "source": [
    "a=\"hello1211\"\n",
    "print(a.isalnum())"
   ]
  },
  {
   "cell_type": "code",
   "execution_count": 86,
   "id": "461bfb28",
   "metadata": {},
   "outputs": [
    {
     "name": "stdout",
     "output_type": "stream",
     "text": [
      "False\n"
     ]
    }
   ],
   "source": [
    "a=\"hello12\"\n",
    "print(a.isalpha())"
   ]
  },
  {
   "cell_type": "code",
   "execution_count": 87,
   "id": "8f88aadc",
   "metadata": {},
   "outputs": [
    {
     "name": "stdout",
     "output_type": "stream",
     "text": [
      "True\n"
     ]
    }
   ],
   "source": [
    "a=\"hello\"\n",
    "print(a.isalpha())"
   ]
  },
  {
   "cell_type": "code",
   "execution_count": 88,
   "id": "9be10d23",
   "metadata": {},
   "outputs": [
    {
     "name": "stdout",
     "output_type": "stream",
     "text": [
      "True\n"
     ]
    }
   ],
   "source": [
    "a=\"hello\"\n",
    "print(a.isidentifier())"
   ]
  },
  {
   "cell_type": "code",
   "execution_count": 90,
   "id": "ceebfdf8",
   "metadata": {},
   "outputs": [
    {
     "name": "stdout",
     "output_type": "stream",
     "text": [
      "True\n"
     ]
    }
   ],
   "source": [
    "a=\"hello\"\n",
    "print(a.isprintable())"
   ]
  },
  {
   "cell_type": "code",
   "execution_count": 91,
   "id": "20cfa32d",
   "metadata": {},
   "outputs": [
    {
     "name": "stdout",
     "output_type": "stream",
     "text": [
      "False\n"
     ]
    }
   ],
   "source": [
    "a=\"hello all\"\n",
    "print(a.isspace())"
   ]
  },
  {
   "cell_type": "code",
   "execution_count": 92,
   "id": "53b14fa2",
   "metadata": {},
   "outputs": [
    {
     "name": "stdout",
     "output_type": "stream",
     "text": [
      "True\n"
     ]
    }
   ],
   "source": [
    "a=\"Hello All\"\n",
    "print(a.istitle())"
   ]
  },
  {
   "cell_type": "code",
   "execution_count": 93,
   "id": "bb22d736",
   "metadata": {},
   "outputs": [
    {
     "name": "stdout",
     "output_type": "stream",
     "text": [
      "True\n"
     ]
    }
   ],
   "source": [
    "a=\"hello\"\n",
    "print(a.islower())"
   ]
  },
  {
   "cell_type": "code",
   "execution_count": 94,
   "id": "2de70616",
   "metadata": {},
   "outputs": [
    {
     "name": "stdout",
     "output_type": "stream",
     "text": [
      "HELLO ALL\n"
     ]
    }
   ],
   "source": [
    "a=\"Hello All\"\n",
    "print(a.upper())"
   ]
  },
  {
   "cell_type": "code",
   "execution_count": 95,
   "id": "cc7b604d",
   "metadata": {},
   "outputs": [
    {
     "name": "stdout",
     "output_type": "stream",
     "text": [
      "False\n"
     ]
    }
   ],
   "source": [
    "a=\"Hello All\"\n",
    "print(a.isupper())"
   ]
  },
  {
   "cell_type": "code",
   "execution_count": 96,
   "id": "ebaf3fc2",
   "metadata": {},
   "outputs": [
    {
     "name": "stdout",
     "output_type": "stream",
     "text": [
      "xyzhelloyhdhellohello\n"
     ]
    }
   ],
   "source": [
    "#join\n",
    "a=['xyz','yhd','','']\n",
    "b=\"hello\"\n",
    "print(b.join(a))"
   ]
  },
  {
   "cell_type": "code",
   "execution_count": 101,
   "id": "0d952c58",
   "metadata": {},
   "outputs": [
    {
     "name": "stdout",
     "output_type": "stream",
     "text": [
      "hello allhow are youxyz\n"
     ]
    }
   ],
   "source": [
    "a=['hello all','xyz']\n",
    "b=\"how are you\"\n",
    "print(b.join(a))"
   ]
  },
  {
   "cell_type": "code",
   "execution_count": 104,
   "id": "d32c7261",
   "metadata": {},
   "outputs": [
    {
     "name": "stdout",
     "output_type": "stream",
     "text": [
      "hello world\n"
     ]
    }
   ],
   "source": [
    "a=\"hello world\"\n",
    "print(a.ljust(5))\n"
   ]
  },
  {
   "cell_type": "code",
   "execution_count": 105,
   "id": "ec20fa37",
   "metadata": {},
   "outputs": [
    {
     "name": "stdout",
     "output_type": "stream",
     "text": [
      " hello all \n"
     ]
    }
   ],
   "source": [
    "a= \" hello all \"\n",
    "print(a.rjust(10))"
   ]
  },
  {
   "cell_type": "code",
   "execution_count": 106,
   "id": "86107865",
   "metadata": {},
   "outputs": [
    {
     "name": "stdout",
     "output_type": "stream",
     "text": [
      "hello\n"
     ]
    }
   ],
   "source": [
    "a=\"    hello   \"\n",
    "print(a.strip())"
   ]
  },
  {
   "cell_type": "code",
   "execution_count": 108,
   "id": "a0f654e7",
   "metadata": {},
   "outputs": [
    {
     "name": "stdout",
     "output_type": "stream",
     "text": [
      "hello all  \n"
     ]
    }
   ],
   "source": [
    "a=\"  hello all  \"\n",
    "print(a.lstrip())"
   ]
  },
  {
   "cell_type": "code",
   "execution_count": 109,
   "id": "3eda8959",
   "metadata": {},
   "outputs": [
    {
     "name": "stdout",
     "output_type": "stream",
     "text": [
      "    hello all\n"
     ]
    }
   ],
   "source": [
    "a=\"    hello all   \"\n",
    "print(a.rstrip())"
   ]
  },
  {
   "cell_type": "code",
   "execution_count": 110,
   "id": "1bd9dc33",
   "metadata": {},
   "outputs": [
    {
     "name": "stdout",
     "output_type": "stream",
     "text": [
      "('how are you,', 'we', ' all are fine')\n"
     ]
    }
   ],
   "source": [
    "#partition\n",
    "a=\"hello all\"\n",
    "b=\"how are you,we all are fine\"\n",
    "print(b.partition('we'))"
   ]
  },
  {
   "cell_type": "code",
   "execution_count": 111,
   "id": "08291118",
   "metadata": {},
   "outputs": [
    {
     "name": "stdout",
     "output_type": "stream",
     "text": [
      "('how are you,', 'we', ' all are fine')\n"
     ]
    }
   ],
   "source": [
    "a=\"hello all\"\n",
    "b=\"how are you,we all are fine\"\n",
    "print(b.rpartition('we'))"
   ]
  },
  {
   "cell_type": "code",
   "execution_count": 112,
   "id": "62b6c336",
   "metadata": {},
   "outputs": [
    {
     "name": "stdout",
     "output_type": "stream",
     "text": [
      "['hello all ', ' genius']\n"
     ]
    }
   ],
   "source": [
    "a=\"hello all are genius\"\n",
    "print(a.split('are'))\n"
   ]
  },
  {
   "cell_type": "code",
   "execution_count": 113,
   "id": "c448ec55",
   "metadata": {},
   "outputs": [
    {
     "name": "stdout",
     "output_type": "stream",
     "text": [
      "['hell all ', ' you']\n"
     ]
    }
   ],
   "source": [
    "a=\"hell all of you\"\n",
    "print(a.rsplit('of'))"
   ]
  },
  {
   "cell_type": "code",
   "execution_count": 117,
   "id": "fa86e337",
   "metadata": {},
   "outputs": [
    {
     "name": "stdout",
     "output_type": "stream",
     "text": [
      "True\n",
      "hello all\n"
     ]
    }
   ],
   "source": [
    "s=\"hello all\"\n",
    "print(s.startswith(\"hello\"))\n",
    "print(s)"
   ]
  },
  {
   "cell_type": "code",
   "execution_count": 118,
   "id": "70fc35b5",
   "metadata": {},
   "outputs": [
    {
     "name": "stdout",
     "output_type": "stream",
     "text": [
      "False\n"
     ]
    }
   ],
   "source": [
    "s=\"hello all\"\n",
    "print(s.startswith('we'))"
   ]
  },
  {
   "cell_type": "code",
   "execution_count": 119,
   "id": "93acbc68",
   "metadata": {},
   "outputs": [
    {
     "name": "stdout",
     "output_type": "stream",
     "text": [
      "True\n"
     ]
    }
   ],
   "source": [
    "a=\"hy hello\"\n",
    "print(a.startswith('h'))"
   ]
  },
  {
   "cell_type": "code",
   "execution_count": 121,
   "id": "ad05d79a",
   "metadata": {},
   "outputs": [
    {
     "name": "stdout",
     "output_type": "stream",
     "text": [
      "HELLO ALL\n"
     ]
    }
   ],
   "source": [
    "a=\"hello all\"\n",
    "print(a.swapcase())"
   ]
  },
  {
   "cell_type": "code",
   "execution_count": 122,
   "id": "9b27bc2f",
   "metadata": {},
   "outputs": [
    {
     "name": "stdout",
     "output_type": "stream",
     "text": [
      "Hello\n"
     ]
    }
   ],
   "source": [
    "a=\"hello\"\n",
    "print(a.title())"
   ]
  },
  {
   "cell_type": "code",
   "execution_count": 123,
   "id": "d67dc187",
   "metadata": {},
   "outputs": [
    {
     "name": "stdout",
     "output_type": "stream",
     "text": [
      "{97: 120, 108: 122}\n"
     ]
    }
   ],
   "source": [
    "a=\"hello all\"\n",
    "print(a.maketrans(\"all\",\"xyz\"))"
   ]
  },
  {
   "cell_type": "code",
   "execution_count": 124,
   "id": "592e7bef",
   "metadata": {},
   "outputs": [
    {
     "name": "stdout",
     "output_type": "stream",
     "text": [
      "hello all\n"
     ]
    }
   ],
   "source": [
    "a=\"hello all\"\n",
    "b=a.maketrans(\"all\",\"xyz\")\n",
    "print(a)"
   ]
  },
  {
   "cell_type": "code",
   "execution_count": null,
   "id": "28c8daad",
   "metadata": {},
   "outputs": [],
   "source": []
  }
 ],
 "metadata": {
  "kernelspec": {
   "display_name": "Python 3 (ipykernel)",
   "language": "python",
   "name": "python3"
  },
  "language_info": {
   "codemirror_mode": {
    "name": "ipython",
    "version": 3
   },
   "file_extension": ".py",
   "mimetype": "text/x-python",
   "name": "python",
   "nbconvert_exporter": "python",
   "pygments_lexer": "ipython3",
   "version": "3.10.9"
  }
 },
 "nbformat": 4,
 "nbformat_minor": 5
}
